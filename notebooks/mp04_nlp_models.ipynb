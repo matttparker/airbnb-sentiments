{
 "cells": [
  {
   "cell_type": "code",
   "execution_count": 172,
   "metadata": {},
   "outputs": [
    {
     "name": "stderr",
     "output_type": "stream",
     "text": [
      "[nltk_data] Downloading package stopwords to\n",
      "[nltk_data]     /Users/mattparker/nltk_data...\n",
      "[nltk_data]   Package stopwords is already up-to-date!\n",
      "[nltk_data] Downloading package averaged_perceptron_tagger to\n",
      "[nltk_data]     /Users/mattparker/nltk_data...\n",
      "[nltk_data]   Package averaged_perceptron_tagger is already up-to-\n",
      "[nltk_data]       date!\n",
      "[nltk_data] Downloading package wordnet to\n",
      "[nltk_data]     /Users/mattparker/nltk_data...\n",
      "[nltk_data]   Package wordnet is already up-to-date!\n"
     ]
    }
   ],
   "source": [
    "# Run in terminal or command prompt:\n",
    "#python3 -m spacy download en\n",
    "\n",
    "# Packages\n",
    "import re\n",
    "import numpy as np\n",
    "import pandas as pd\n",
    "import matplotlib.pyplot as plt\n",
    "from tqdm.notebook import tqdm\n",
    "from pprint import pprint\n",
    "\n",
    "# Import stopwords and other word packages\n",
    "import nltk\n",
    "nltk.download('stopwords')\n",
    "nltk.download('averaged_perceptron_tagger')\n",
    "nltk.download('wordnet')\n",
    "\n",
    "# Gensim\n",
    "import gensim\n",
    "import gensim.corpora as corpora\n",
    "from gensim.utils import simple_preprocess\n",
    "from gensim.models import CoherenceModel, LdaModel, LdaMulticore\n",
    "from gensim.parsing.preprocessing import STOPWORDS\n",
    "from gensim.corpora import Dictionary\n",
    "\n",
    "# spacy for lemmatization\n",
    "import spacy\n",
    "\n",
    "# Plotting tools\n",
    "import pyLDAvis\n",
    "import pyLDAvis.gensim_models # as gensimvis  # don't skip this\n",
    "import matplotlib.pyplot as plt\n",
    "%matplotlib inline\n",
    "\n",
    "# Enable logging for gensim - optional\n",
    "import logging\n",
    "logging.basicConfig(format='%(asctime)s : %(levelname)s : %(message)s', level=logging.ERROR)\n",
    "\n",
    "import warnings\n",
    "warnings.filterwarnings(\"ignore\",category=DeprecationWarning)\n",
    "\n",
    "pd.set_option('display.max_columns', 500)\n",
    "pd.set_option('display.max_rows', 100)\n",
    "pd.set_option('display.width', 1000)\n",
    "\n",
    "\n",
    "from sklearn.feature_extraction.text import CountVectorizer, TfidfVectorizer\n",
    "from sklearn.model_selection import train_test_split as tts\n",
    "from sklearn.linear_model import SGDRegressor\n",
    "from sklearn.metrics import mean_absolute_error, mean_squared_error, r2_score\n",
    "from sklearn.pipeline import Pipeline\n",
    "from sklearn.preprocessing import StandardScaler\n",
    "\n",
    "from nltk.stem import WordNetLemmatizer, SnowballStemmer\n",
    "from nltk.tokenize import RegexpTokenizer\n",
    "from nltk.stem.wordnet import WordNetLemmatizer\n",
    "from nltk.stem.porter import *\n",
    "from nltk.corpus import stopwords\n",
    "\n",
    "from scipy.sparse import csr_matrix, hstack, coo_matrix\n",
    "\n",
    "\n",
    "import string\n",
    "import os"
   ]
  },
  {
   "cell_type": "code",
   "execution_count": 173,
   "metadata": {},
   "outputs": [],
   "source": [
    "airbnb = pd.read_csv('../data/airbnb_gentrification.csv')"
   ]
  },
  {
   "cell_type": "code",
   "execution_count": 174,
   "metadata": {},
   "outputs": [
    {
     "data": {
      "text/html": [
       "<div>\n",
       "<style scoped>\n",
       "    .dataframe tbody tr th:only-of-type {\n",
       "        vertical-align: middle;\n",
       "    }\n",
       "\n",
       "    .dataframe tbody tr th {\n",
       "        vertical-align: top;\n",
       "    }\n",
       "\n",
       "    .dataframe thead th {\n",
       "        text-align: right;\n",
       "    }\n",
       "</style>\n",
       "<table border=\"1\" class=\"dataframe\">\n",
       "  <thead>\n",
       "    <tr style=\"text-align: right;\">\n",
       "      <th></th>\n",
       "      <th>listing_id</th>\n",
       "      <th>comments_concatenated</th>\n",
       "      <th>name</th>\n",
       "      <th>host_id</th>\n",
       "      <th>latitude</th>\n",
       "      <th>longitude</th>\n",
       "      <th>price</th>\n",
       "      <th>minimum_nights</th>\n",
       "      <th>number_of_reviews</th>\n",
       "      <th>reviews_per_month</th>\n",
       "      <th>calculated_host_listings_count</th>\n",
       "      <th>availability_365</th>\n",
       "      <th>listing_url</th>\n",
       "      <th>description</th>\n",
       "      <th>neighborhood_overview</th>\n",
       "      <th>host_since</th>\n",
       "      <th>host_listings_count</th>\n",
       "      <th>property_type</th>\n",
       "      <th>accommodates</th>\n",
       "      <th>bathrooms_text</th>\n",
       "      <th>bedrooms</th>\n",
       "      <th>beds</th>\n",
       "      <th>amenities</th>\n",
       "      <th>minimum_nights_avg_ntm</th>\n",
       "      <th>maximum_nights_avg_ntm</th>\n",
       "      <th>review_scores_rating</th>\n",
       "      <th>review_scores_accuracy</th>\n",
       "      <th>review_scores_cleanliness</th>\n",
       "      <th>review_scores_checkin</th>\n",
       "      <th>review_scores_communication</th>\n",
       "      <th>review_scores_location</th>\n",
       "      <th>review_scores_value</th>\n",
       "      <th>zip_code</th>\n",
       "      <th>GEOID</th>\n",
       "      <th>house_price_2021-01-31</th>\n",
       "      <th>house_pct_change</th>\n",
       "      <th>rentals_2021-01-31</th>\n",
       "      <th>rental_price_pct_change</th>\n",
       "      <th>new_restaurants</th>\n",
       "      <th>available_beer</th>\n",
       "      <th>str_permits_2020</th>\n",
       "      <th>str_permits_growth</th>\n",
       "      <th>crimes</th>\n",
       "      <th>total_pop_2010</th>\n",
       "      <th>total_pop_2019</th>\n",
       "      <th>total_pop_change</th>\n",
       "      <th>total_pop_pct_change</th>\n",
       "      <th>pop_over25_2010</th>\n",
       "      <th>pop_over25_2019</th>\n",
       "      <th>pop_over25_change</th>\n",
       "      <th>pop_over25_pcg_change</th>\n",
       "      <th>total_households_2010</th>\n",
       "      <th>total_households_2019</th>\n",
       "      <th>total_households_change</th>\n",
       "      <th>total_households_pct_change</th>\n",
       "      <th>white_pct_2010</th>\n",
       "      <th>white_pct_2019</th>\n",
       "      <th>white_value_change</th>\n",
       "      <th>white_pct_change</th>\n",
       "      <th>bach_pct_2010</th>\n",
       "      <th>bach_pct_2019</th>\n",
       "      <th>bach_value_change</th>\n",
       "      <th>bach_pct_change</th>\n",
       "      <th>rent_pct_2010</th>\n",
       "      <th>rent_pct_2019</th>\n",
       "      <th>rent_value_change</th>\n",
       "      <th>renter_pct_change</th>\n",
       "      <th>median_hhi_2010</th>\n",
       "      <th>median_hhi_2019</th>\n",
       "      <th>median_hhi_value_change</th>\n",
       "      <th>median_hhi_pct_change</th>\n",
       "      <th>poverty_pct_2010</th>\n",
       "      <th>poverty_pct_2019</th>\n",
       "      <th>poverty_value_change</th>\n",
       "      <th>poverty_pct_change</th>\n",
       "      <th>gentrifying</th>\n",
       "    </tr>\n",
       "  </thead>\n",
       "  <tbody>\n",
       "    <tr>\n",
       "      <th>0</th>\n",
       "      <td>6422</td>\n",
       "      <td>I can't say enough about how wonderful it was ...</td>\n",
       "      <td>Nashville Charm</td>\n",
       "      <td>12172</td>\n",
       "      <td>36.17315</td>\n",
       "      <td>-86.73581</td>\n",
       "      <td>40</td>\n",
       "      <td>30</td>\n",
       "      <td>674</td>\n",
       "      <td>4.69</td>\n",
       "      <td>1</td>\n",
       "      <td>267</td>\n",
       "      <td>https://www.airbnb.com/rooms/6422</td>\n",
       "      <td>30 day or more rental during COVID. Show COVID...</td>\n",
       "      <td>Historic East Nashville is home to many new an...</td>\n",
       "      <td>2009-04-03</td>\n",
       "      <td>0.0</td>\n",
       "      <td>Private room in house</td>\n",
       "      <td>2</td>\n",
       "      <td>1 private bath</td>\n",
       "      <td>2.0</td>\n",
       "      <td>3.0</td>\n",
       "      <td>[\"Hair dryer\", \"Bathtub\", \"Lock on bedroom doo...</td>\n",
       "      <td>30.0</td>\n",
       "      <td>365.0</td>\n",
       "      <td>99.0</td>\n",
       "      <td>10.0</td>\n",
       "      <td>10.0</td>\n",
       "      <td>10.0</td>\n",
       "      <td>10.0</td>\n",
       "      <td>10.0</td>\n",
       "      <td>10.0</td>\n",
       "      <td>37206.0</td>\n",
       "      <td>4.703701e+10</td>\n",
       "      <td>412476.0</td>\n",
       "      <td>38.31</td>\n",
       "      <td>NaN</td>\n",
       "      <td>NaN</td>\n",
       "      <td>1.0</td>\n",
       "      <td>2.0</td>\n",
       "      <td>114.0</td>\n",
       "      <td>114.0</td>\n",
       "      <td>1165.0</td>\n",
       "      <td>2544.0</td>\n",
       "      <td>2100.0</td>\n",
       "      <td>-444.0</td>\n",
       "      <td>-0.174528</td>\n",
       "      <td>1703.0</td>\n",
       "      <td>1639.0</td>\n",
       "      <td>-64.0</td>\n",
       "      <td>-0.037581</td>\n",
       "      <td>1140.0</td>\n",
       "      <td>926.0</td>\n",
       "      <td>-214.0</td>\n",
       "      <td>-0.187719</td>\n",
       "      <td>0.657626</td>\n",
       "      <td>0.940952</td>\n",
       "      <td>0.283327</td>\n",
       "      <td>0.430833</td>\n",
       "      <td>0.408691</td>\n",
       "      <td>0.585723</td>\n",
       "      <td>0.177032</td>\n",
       "      <td>0.43317</td>\n",
       "      <td>0.320175</td>\n",
       "      <td>0.240821</td>\n",
       "      <td>-0.079355</td>\n",
       "      <td>-0.247848</td>\n",
       "      <td>46000.0</td>\n",
       "      <td>91643.0</td>\n",
       "      <td>45643.0</td>\n",
       "      <td>0.992239</td>\n",
       "      <td>10.6</td>\n",
       "      <td>10.2</td>\n",
       "      <td>-0.4</td>\n",
       "      <td>-0.037736</td>\n",
       "      <td>False</td>\n",
       "    </tr>\n",
       "  </tbody>\n",
       "</table>\n",
       "</div>"
      ],
      "text/plain": [
       "   listing_id                              comments_concatenated             name  host_id  latitude  longitude  price  minimum_nights  number_of_reviews  reviews_per_month  calculated_host_listings_count  availability_365                        listing_url                                        description                              neighborhood_overview  host_since  host_listings_count          property_type  accommodates  bathrooms_text  bedrooms  beds                                          amenities  minimum_nights_avg_ntm  maximum_nights_avg_ntm  review_scores_rating  review_scores_accuracy  review_scores_cleanliness  review_scores_checkin  review_scores_communication  review_scores_location  review_scores_value  zip_code         GEOID  house_price_2021-01-31  house_pct_change  rentals_2021-01-31  rental_price_pct_change  new_restaurants  available_beer  str_permits_2020  str_permits_growth  crimes  total_pop_2010  total_pop_2019  total_pop_change  total_pop_pct_change  \\\n",
       "0        6422  I can't say enough about how wonderful it was ...  Nashville Charm    12172  36.17315  -86.73581     40              30                674               4.69                               1               267  https://www.airbnb.com/rooms/6422  30 day or more rental during COVID. Show COVID...  Historic East Nashville is home to many new an...  2009-04-03                  0.0  Private room in house             2  1 private bath       2.0   3.0  [\"Hair dryer\", \"Bathtub\", \"Lock on bedroom doo...                    30.0                   365.0                  99.0                    10.0                       10.0                   10.0                         10.0                    10.0                 10.0   37206.0  4.703701e+10                412476.0             38.31                 NaN                      NaN              1.0             2.0             114.0               114.0  1165.0          2544.0          2100.0            -444.0             -0.174528   \n",
       "\n",
       "   pop_over25_2010  pop_over25_2019  pop_over25_change  pop_over25_pcg_change  total_households_2010  total_households_2019  total_households_change  total_households_pct_change  white_pct_2010  white_pct_2019  white_value_change  white_pct_change  bach_pct_2010  bach_pct_2019  bach_value_change  bach_pct_change  rent_pct_2010  rent_pct_2019  rent_value_change  renter_pct_change  median_hhi_2010  median_hhi_2019  median_hhi_value_change  median_hhi_pct_change  poverty_pct_2010  poverty_pct_2019  poverty_value_change  poverty_pct_change  gentrifying  \n",
       "0           1703.0           1639.0              -64.0              -0.037581                 1140.0                  926.0                   -214.0                    -0.187719        0.657626        0.940952            0.283327          0.430833       0.408691       0.585723           0.177032          0.43317       0.320175       0.240821          -0.079355          -0.247848          46000.0          91643.0                  45643.0               0.992239              10.6              10.2                  -0.4           -0.037736        False  "
      ]
     },
     "execution_count": 174,
     "metadata": {},
     "output_type": "execute_result"
    }
   ],
   "source": [
    "airbnb.head(1)"
   ]
  },
  {
   "cell_type": "code",
   "execution_count": 175,
   "metadata": {},
   "outputs": [
    {
     "data": {
      "text/plain": [
       "(5205, 76)"
      ]
     },
     "execution_count": 175,
     "metadata": {},
     "output_type": "execute_result"
    }
   ],
   "source": [
    "airbnb.shape"
   ]
  },
  {
   "cell_type": "code",
   "execution_count": 176,
   "metadata": {},
   "outputs": [],
   "source": [
    "airbnb = airbnb[airbnb['comments_concatenated'].notna()]"
   ]
  },
  {
   "cell_type": "code",
   "execution_count": 177,
   "metadata": {},
   "outputs": [],
   "source": [
    "airbnb_nlp = airbnb[['listing_id', 'comments_concatenated', 'gentrifying']]"
   ]
  },
  {
   "cell_type": "code",
   "execution_count": 178,
   "metadata": {},
   "outputs": [
    {
     "data": {
      "text/plain": [
       "0"
      ]
     },
     "execution_count": 178,
     "metadata": {},
     "output_type": "execute_result"
    }
   ],
   "source": [
    "airbnb_nlp.comments_concatenated.isna().sum()"
   ]
  },
  {
   "cell_type": "markdown",
   "metadata": {},
   "source": [
    "## Train Test Split (skip unless using a predictive model)"
   ]
  },
  {
   "cell_type": "code",
   "execution_count": 179,
   "metadata": {},
   "outputs": [],
   "source": [
    "# create two lists with training and testing apns\n",
    "train_listings, test_listings = tts(airbnb_nlp['listing_id'].to_list(), \n",
    "                                    random_state = 42, \n",
    "                                    stratify=airbnb_nlp['gentrifying'])"
   ]
  },
  {
   "cell_type": "code",
   "execution_count": 180,
   "metadata": {},
   "outputs": [
    {
     "data": {
      "text/plain": [
       "3903"
      ]
     },
     "execution_count": 180,
     "metadata": {},
     "output_type": "execute_result"
    }
   ],
   "source": [
    "len(train_listings)"
   ]
  },
  {
   "cell_type": "code",
   "execution_count": 181,
   "metadata": {},
   "outputs": [],
   "source": [
    "# Create train and test dataframes from the lists of apns\n",
    "airbnb_train = airbnb_nlp[airbnb_nlp['listing_id'].isin(train_listings)].sort_values('listing_id')\n",
    "airbnb_test = airbnb_nlp[airbnb_nlp['listing_id'].isin(test_listings)].sort_values('listing_id')"
   ]
  },
  {
   "cell_type": "code",
   "execution_count": 182,
   "metadata": {},
   "outputs": [],
   "source": [
    "# Create the y_train and y_test dataframes from the lists of apns\n",
    "y_train = airbnb_nlp['gentrifying']\n",
    "y_test = airbnb_nlp['gentrifying']"
   ]
  },
  {
   "cell_type": "code",
   "execution_count": 183,
   "metadata": {},
   "outputs": [
    {
     "name": "stdout",
     "output_type": "stream",
     "text": [
      "False    0.755829\n",
      "True     0.244171\n",
      "Name: gentrifying, dtype: float64\n",
      "False    0.756341\n",
      "True     0.243659\n",
      "Name: gentrifying, dtype: float64\n"
     ]
    }
   ],
   "source": [
    "print(airbnb_train.gentrifying.value_counts(normalize=True))\n",
    "print(airbnb_test.gentrifying.value_counts(normalize=True))"
   ]
  },
  {
   "cell_type": "markdown",
   "metadata": {},
   "source": [
    "## Gensim Blog - Machine Learning Plus\n",
    "https://www.machinelearningplus.com/nlp/topic-modeling-gensim-python/"
   ]
  },
  {
   "cell_type": "code",
   "execution_count": 260,
   "metadata": {},
   "outputs": [],
   "source": [
    "# Convert to list\n",
    "data = airbnb_nlp.comments_concatenated.values.tolist()"
   ]
  },
  {
   "cell_type": "code",
   "execution_count": 261,
   "metadata": {},
   "outputs": [],
   "source": [
    "# Clean review break symbols\n",
    "data = [re.sub(\"\\\\r\\\\n\", \"\", comment) for comment in data]"
   ]
  },
  {
   "cell_type": "code",
   "execution_count": 262,
   "metadata": {},
   "outputs": [
    {
     "data": {
      "application/vnd.jupyter.widget-view+json": {
       "model_id": "b0b519d484fb4a3498ab66324c27684f",
       "version_major": 2,
       "version_minor": 0
      },
      "text/plain": [
       "HBox(children=(FloatProgress(value=0.0, max=5204.0), HTML(value='')))"
      ]
     },
     "metadata": {},
     "output_type": "display_data"
    },
    {
     "name": "stdout",
     "output_type": "stream",
     "text": [
      "\n"
     ]
    }
   ],
   "source": [
    "# Tokenize each sentence to words, removing uneeded words/characters\n",
    "def sent_to_words(sentences):\n",
    "    for sentence in tqdm(sentences):\n",
    "        tagged_words = nltk.tag.pos_tag(sentence.split()) \n",
    "        no_names = [word for word,tag in tagged_words if tag != 'NNP' and tag != 'NNPS'] # Remove proper nouns\n",
    "        yield(gensim.utils.simple_preprocess(str(no_names), deacc=True)) #Clean and remove punctuation\n",
    "\n",
    "data_words = list(sent_to_words(data))\n",
    "\n",
    "#print(data_words[0:1])"
   ]
  },
  {
   "cell_type": "code",
   "execution_count": 263,
   "metadata": {},
   "outputs": [],
   "source": [
    "# Build the bigram and trigram models\n",
    "bigram = gensim.models.Phrases(data_words,\n",
    "                               min_count=100,\n",
    "                               threshold=10)#,  # higher threshold fewer phrases.\n",
    "                               #connector_words=phrases.ENGLISH_CONNECTOR_WORDS) ***I think I need to download this.\n",
    "trigram = gensim.models.Phrases(bigram[data_words], threshold=10)#, connector_words=phrases.ENGLISH_CONNECTOR_WORDS)  \n",
    "\n",
    "# Faster way to get a sentence clubbed as a trigram/bigram\n",
    "bigram_mod = gensim.models.phrases.Phraser(bigram)\n",
    "trigram_mod = gensim.models.phrases.Phraser(trigram)\n",
    "\n",
    "# Test trigram on first review\n",
    "#print(trigram_mod[bigram_mod[data_words[0]]])"
   ]
  },
  {
   "cell_type": "code",
   "execution_count": 264,
   "metadata": {},
   "outputs": [],
   "source": [
    "# Build list of stopwords\n",
    "stop_words = stopwords.words('english')\n",
    "stop_words.extend(['from', 'stay', 'place', 'location', 'home', 'house', 'host', 'hosts', 'great', 'clean', 'nice',\n",
    "                  'perfect', 'comfortable', 'room', 'definitely', 'recommend', 'space', 'need', 'us', 'would',\n",
    "                  'building', 'good', 'get', 'one', 'everything', 'loved'])"
   ]
  },
  {
   "cell_type": "code",
   "execution_count": 265,
   "metadata": {},
   "outputs": [],
   "source": [
    "# Remove Stop Words\n",
    "data_words_nostops = remove_stopwords(data_words)\n",
    "\n",
    "# Form Bigrams\n",
    "data_words_bigrams = make_bigrams(data_words_nostops)\n",
    "\n",
    "# Initialize spacy 'en' model, keeping only tagger component (for efficiency)\n",
    "# python3 -m spacy download en\n",
    "nlp = spacy.load('en_core_web_sm', disable=['parser', 'ner'])\n",
    "\n",
    "# Do lemmatization keeping only noun, adj, vb, adv\n",
    "#data_lemmatized = lemmatization(data_words_bigrams, allowed_postags=['NOUN', 'ADJ', 'VERB', 'ADV'])\n",
    "\n",
    "#print(data_lemmatized[:1])"
   ]
  },
  {
   "cell_type": "code",
   "execution_count": 266,
   "metadata": {},
   "outputs": [],
   "source": [
    "# Only use if skipping lemmatization\n",
    "data_lemmatized = data_words_bigrams.copy()"
   ]
  },
  {
   "cell_type": "code",
   "execution_count": 267,
   "metadata": {},
   "outputs": [
    {
     "data": {
      "application/vnd.jupyter.widget-view+json": {
       "model_id": "ecdffecdba8b4422b7ac50903c0f57dc",
       "version_major": 2,
       "version_minor": 0
      },
      "text/plain": [
       "HBox(children=(FloatProgress(value=0.0, max=5204.0), HTML(value='')))"
      ]
     },
     "metadata": {},
     "output_type": "display_data"
    },
    {
     "name": "stdout",
     "output_type": "stream",
     "text": [
      "\n"
     ]
    }
   ],
   "source": [
    "# Create Dictionary\n",
    "id2word = corpora.Dictionary(data_lemmatized)\n",
    "\n",
    "# Create Corpus\n",
    "texts = data_lemmatized\n",
    "\n",
    "# Term Document Frequency\n",
    "corpus = [id2word.doc2bow(text) for text in tqdm(texts)]\n",
    "\n",
    "# View\n",
    "#print(corpus[:1])"
   ]
  },
  {
   "cell_type": "code",
   "execution_count": 268,
   "metadata": {},
   "outputs": [
    {
     "data": {
      "text/plain": [
       "'conversation'"
      ]
     },
     "execution_count": 268,
     "metadata": {},
     "output_type": "execute_result"
    }
   ],
   "source": [
    "# How to view a single word within the corpus\n",
    "id2word[500]"
   ]
  },
  {
   "cell_type": "code",
   "execution_count": 269,
   "metadata": {},
   "outputs": [],
   "source": [
    "# Human readable format of corpus (term-frequency)\n",
    "#[[(id2word[id], freq) for id, freq in cp] for cp in corpus[:1]]"
   ]
  },
  {
   "cell_type": "code",
   "execution_count": 270,
   "metadata": {},
   "outputs": [],
   "source": [
    "# Build LDA model\n",
    "lda_model = LdaMulticore(corpus=corpus,        # Replace with gensim.models.ldamodel.LdaModel()\n",
    "                       id2word=id2word,\n",
    "                       num_topics=8, #number of topics to identify\n",
    "                       random_state=100,\n",
    "                       #update_every=1,                          #Add back in with LdaModel\n",
    "                       chunksize=100, #number of documents to pass per chunk\n",
    "                       passes=10, #number of training passes\n",
    "                       #alpha='auto',                            #Add back in with LdaModel\n",
    "                       per_word_topics=True)"
   ]
  },
  {
   "cell_type": "code",
   "execution_count": 271,
   "metadata": {},
   "outputs": [
    {
     "name": "stdout",
     "output_type": "stream",
     "text": [
      "[(0,\n",
      "  '0.015*\"downtown\" + 0.015*\"beds\" + 0.014*\"group\" + 0.012*\"amazing\" + '\n",
      "  '0.011*\"beautiful\" + 0.010*\"spacious\" + 0.010*\"time\" + 0.010*\"close\" + '\n",
      "  '0.010*\"quick\" + 0.009*\"plenty\"'),\n",
      " (1,\n",
      "  '0.018*\"friendly\" + 0.012*\"welcoming\" + 0.012*\"bathroom\" + 0.011*\"made\" + '\n",
      "  '0.011*\"staying\" + 0.010*\"time\" + 0.010*\"wonderful\" + 0.009*\"private\" + '\n",
      "  '0.009*\"experience\" + 0.009*\"beautiful\"'),\n",
      " (2,\n",
      "  '0.073*\"condo\" + 0.057*\"view\" + 0.034*\"downtown\" + 0.030*\"walk\" + '\n",
      "  '0.022*\"river\" + 0.018*\"views\" + 0.015*\"balcony\" + 0.015*\"close\" + '\n",
      "  '0.014*\"pool\" + 0.010*\"city\"'),\n",
      " (3,\n",
      "  '0.013*\"super\" + 0.012*\"cute\" + 0.012*\"amazing\" + 0.010*\"cozy\" + '\n",
      "  '0.010*\"little\" + 0.010*\"downtown\" + 0.009*\"stylish\" + 0.009*\"staying\" + '\n",
      "  '0.009*\"close\" + 0.008*\"bed\"'),\n",
      " (4,\n",
      "  '0.022*\"restaurants\" + 0.014*\"neighborhood\" + 0.013*\"downtown\" + '\n",
      "  '0.012*\"walk\" + 0.011*\"easy\" + 0.010*\"apartment\" + 0.009*\"area\" + '\n",
      "  '0.009*\"close\" + 0.008*\"bars\" + 0.008*\"time\"'),\n",
      " (5,\n",
      "  '0.020*\"apartment\" + 0.009*\"close\" + 0.009*\"parking\" + 0.009*\"walk\" + '\n",
      "  '0.008*\"downtown\" + 0.007*\"check\" + 0.007*\"easy\" + 0.006*\"night\" + '\n",
      "  '0.006*\"time\" + 0.006*\"unit\"'),\n",
      " (6,\n",
      "  '0.017*\"beautiful\" + 0.010*\"back\" + 0.010*\"wonderful\" + 0.010*\"family\" + '\n",
      "  '0.009*\"amazing\" + 0.009*\"time\" + 0.007*\"enjoyed\" + 0.007*\"like\" + '\n",
      "  '0.006*\"quiet\" + 0.006*\"even\"'),\n",
      " (7,\n",
      "  '0.023*\"downtown\" + 0.015*\"close\" + 0.015*\"quiet\" + 0.014*\"easy\" + '\n",
      "  '0.014*\"neighborhood\" + 0.011*\"needed\" + 0.010*\"quick\" + 0.009*\"little\" + '\n",
      "  '0.009*\"area\" + 0.008*\"super\"')]\n"
     ]
    }
   ],
   "source": [
    "# Print the top 10 Keywords in each grouped Topic\n",
    "pprint(lda_model.print_topics())\n",
    "doc_lda = lda_model[corpus]"
   ]
  },
  {
   "cell_type": "code",
   "execution_count": 272,
   "metadata": {},
   "outputs": [
    {
     "name": "stdout",
     "output_type": "stream",
     "text": [
      "\n",
      "Perplexity:  -7.166391972531052\n",
      "\n",
      "Coherence Score:  0.3107761181720091\n"
     ]
    }
   ],
   "source": [
    "# Compute Perplexity\n",
    "print('\\nPerplexity: ', lda_model.log_perplexity(corpus))  # a measure of how good the model is. lower the better.\n",
    "\n",
    "# Compute Coherence Score - Likely more helpful. Takes a while to run.\n",
    "coherence_model_lda = CoherenceModel(model=lda_model, texts=data_lemmatized, dictionary=id2word, coherence='c_v')\n",
    "coherence_lda = coherence_model_lda.get_coherence()\n",
    "print('\\nCoherence Score: ', coherence_lda)"
   ]
  },
  {
   "cell_type": "markdown",
   "metadata": {},
   "source": [
    "## Visual for Viewing each Topic"
   ]
  },
  {
   "cell_type": "code",
   "execution_count": 284,
   "metadata": {},
   "outputs": [],
   "source": [
    "#vis = pyLDAvis.gensim_models.prepare(lda_model, corpus, id2word, sort_topics=False)\n",
    "#pyLDAvis.save_html(vis, '../lda_vis/lda.html')\n",
    "# To publish to google site, add the following to front of URL: https://htmlpreview.github.io/?"
   ]
  },
  {
   "cell_type": "markdown",
   "metadata": {},
   "source": [
    "### Skipping step 17 about finding the best number of topics - Tim recommends 8-12"
   ]
  },
  {
   "cell_type": "markdown",
   "metadata": {},
   "source": [
    "## Find dominant Topic in each Review"
   ]
  },
  {
   "cell_type": "code",
   "execution_count": 274,
   "metadata": {},
   "outputs": [],
   "source": [
    "bow = corpora.Dictionary(data_lemmatized)"
   ]
  },
  {
   "cell_type": "code",
   "execution_count": 275,
   "metadata": {},
   "outputs": [
    {
     "data": {
      "application/vnd.jupyter.widget-view+json": {
       "model_id": "eddc357a09174fcb85306676a0771b97",
       "version_major": 2,
       "version_minor": 0
      },
      "text/plain": [
       "HBox(children=(FloatProgress(value=1.0, bar_style='info', max=1.0), HTML(value='')))"
      ]
     },
     "metadata": {},
     "output_type": "display_data"
    },
    {
     "name": "stdout",
     "output_type": "stream",
     "text": [
      "\n"
     ]
    }
   ],
   "source": [
    "#Michael's Original\n",
    "contents = []\n",
    "\n",
    "for idx, doc in tqdm(enumerate(data_lemmatized)):\n",
    "    bow = id2word.doc2bow(doc)\n",
    "    topics = lda_model.get_document_topics(bow)\n",
    "    for res in topics:\n",
    "        topic, pct = res\n",
    "        contents.append({'index': idx, 'topic': topic, 'percent': pct})\n",
    "\n",
    "topics = pd.DataFrame(contents)"
   ]
  },
  {
   "cell_type": "code",
   "execution_count": 276,
   "metadata": {},
   "outputs": [
    {
     "data": {
      "text/html": [
       "<div>\n",
       "<style scoped>\n",
       "    .dataframe tbody tr th:only-of-type {\n",
       "        vertical-align: middle;\n",
       "    }\n",
       "\n",
       "    .dataframe tbody tr th {\n",
       "        vertical-align: top;\n",
       "    }\n",
       "\n",
       "    .dataframe thead th {\n",
       "        text-align: right;\n",
       "    }\n",
       "</style>\n",
       "<table border=\"1\" class=\"dataframe\">\n",
       "  <thead>\n",
       "    <tr style=\"text-align: right;\">\n",
       "      <th></th>\n",
       "      <th>index</th>\n",
       "      <th>topic</th>\n",
       "      <th>percent</th>\n",
       "    </tr>\n",
       "  </thead>\n",
       "  <tbody>\n",
       "    <tr>\n",
       "      <th>0</th>\n",
       "      <td>0</td>\n",
       "      <td>1</td>\n",
       "      <td>0.509356</td>\n",
       "    </tr>\n",
       "    <tr>\n",
       "      <th>1</th>\n",
       "      <td>0</td>\n",
       "      <td>4</td>\n",
       "      <td>0.168034</td>\n",
       "    </tr>\n",
       "    <tr>\n",
       "      <th>2</th>\n",
       "      <td>0</td>\n",
       "      <td>6</td>\n",
       "      <td>0.178528</td>\n",
       "    </tr>\n",
       "    <tr>\n",
       "      <th>3</th>\n",
       "      <td>0</td>\n",
       "      <td>7</td>\n",
       "      <td>0.127615</td>\n",
       "    </tr>\n",
       "    <tr>\n",
       "      <th>4</th>\n",
       "      <td>1</td>\n",
       "      <td>1</td>\n",
       "      <td>0.441536</td>\n",
       "    </tr>\n",
       "    <tr>\n",
       "      <th>5</th>\n",
       "      <td>1</td>\n",
       "      <td>4</td>\n",
       "      <td>0.406990</td>\n",
       "    </tr>\n",
       "    <tr>\n",
       "      <th>6</th>\n",
       "      <td>1</td>\n",
       "      <td>5</td>\n",
       "      <td>0.027662</td>\n",
       "    </tr>\n",
       "    <tr>\n",
       "      <th>7</th>\n",
       "      <td>1</td>\n",
       "      <td>6</td>\n",
       "      <td>0.095980</td>\n",
       "    </tr>\n",
       "    <tr>\n",
       "      <th>8</th>\n",
       "      <td>1</td>\n",
       "      <td>7</td>\n",
       "      <td>0.023219</td>\n",
       "    </tr>\n",
       "    <tr>\n",
       "      <th>9</th>\n",
       "      <td>2</td>\n",
       "      <td>1</td>\n",
       "      <td>0.127599</td>\n",
       "    </tr>\n",
       "  </tbody>\n",
       "</table>\n",
       "</div>"
      ],
      "text/plain": [
       "   index  topic   percent\n",
       "0      0      1  0.509356\n",
       "1      0      4  0.168034\n",
       "2      0      6  0.178528\n",
       "3      0      7  0.127615\n",
       "4      1      1  0.441536\n",
       "5      1      4  0.406990\n",
       "6      1      5  0.027662\n",
       "7      1      6  0.095980\n",
       "8      1      7  0.023219\n",
       "9      2      1  0.127599"
      ]
     },
     "execution_count": 276,
     "metadata": {},
     "output_type": "execute_result"
    }
   ],
   "source": [
    "topics.head(10)"
   ]
  },
  {
   "cell_type": "code",
   "execution_count": 277,
   "metadata": {},
   "outputs": [
    {
     "data": {
      "text/html": [
       "<div>\n",
       "<style scoped>\n",
       "    .dataframe tbody tr th:only-of-type {\n",
       "        vertical-align: middle;\n",
       "    }\n",
       "\n",
       "    .dataframe tbody tr th {\n",
       "        vertical-align: top;\n",
       "    }\n",
       "\n",
       "    .dataframe thead th {\n",
       "        text-align: right;\n",
       "    }\n",
       "</style>\n",
       "<table border=\"1\" class=\"dataframe\">\n",
       "  <thead>\n",
       "    <tr style=\"text-align: right;\">\n",
       "      <th></th>\n",
       "      <th>index</th>\n",
       "      <th>topic</th>\n",
       "      <th>percent</th>\n",
       "    </tr>\n",
       "  </thead>\n",
       "  <tbody>\n",
       "    <tr>\n",
       "      <th>2078</th>\n",
       "      <td>413</td>\n",
       "      <td>2</td>\n",
       "      <td>0.937429</td>\n",
       "    </tr>\n",
       "    <tr>\n",
       "      <th>5808</th>\n",
       "      <td>1185</td>\n",
       "      <td>0</td>\n",
       "      <td>0.997171</td>\n",
       "    </tr>\n",
       "    <tr>\n",
       "      <th>6948</th>\n",
       "      <td>1427</td>\n",
       "      <td>1</td>\n",
       "      <td>0.967497</td>\n",
       "    </tr>\n",
       "    <tr>\n",
       "      <th>16767</th>\n",
       "      <td>3685</td>\n",
       "      <td>4</td>\n",
       "      <td>0.986514</td>\n",
       "    </tr>\n",
       "    <tr>\n",
       "      <th>19943</th>\n",
       "      <td>4516</td>\n",
       "      <td>7</td>\n",
       "      <td>0.982811</td>\n",
       "    </tr>\n",
       "    <tr>\n",
       "      <th>20503</th>\n",
       "      <td>4668</td>\n",
       "      <td>3</td>\n",
       "      <td>0.979470</td>\n",
       "    </tr>\n",
       "    <tr>\n",
       "      <th>21228</th>\n",
       "      <td>4868</td>\n",
       "      <td>6</td>\n",
       "      <td>0.982094</td>\n",
       "    </tr>\n",
       "    <tr>\n",
       "      <th>22050</th>\n",
       "      <td>5078</td>\n",
       "      <td>5</td>\n",
       "      <td>0.997293</td>\n",
       "    </tr>\n",
       "  </tbody>\n",
       "</table>\n",
       "</div>"
      ],
      "text/plain": [
       "       index  topic   percent\n",
       "2078     413      2  0.937429\n",
       "5808    1185      0  0.997171\n",
       "6948    1427      1  0.967497\n",
       "16767   3685      4  0.986514\n",
       "19943   4516      7  0.982811\n",
       "20503   4668      3  0.979470\n",
       "21228   4868      6  0.982094\n",
       "22050   5078      5  0.997293"
      ]
     },
     "execution_count": 277,
     "metadata": {},
     "output_type": "execute_result"
    }
   ],
   "source": [
    "idx = topics.groupby(['topic'])['percent'].transform(max) == topics['percent']\n",
    "topic_listing = topics[idx]\n",
    "topic_listing"
   ]
  },
  {
   "cell_type": "code",
   "execution_count": 278,
   "metadata": {},
   "outputs": [
    {
     "data": {
      "text/html": [
       "<div>\n",
       "<style scoped>\n",
       "    .dataframe tbody tr th:only-of-type {\n",
       "        vertical-align: middle;\n",
       "    }\n",
       "\n",
       "    .dataframe tbody tr th {\n",
       "        vertical-align: top;\n",
       "    }\n",
       "\n",
       "    .dataframe thead th {\n",
       "        text-align: right;\n",
       "    }\n",
       "</style>\n",
       "<table border=\"1\" class=\"dataframe\">\n",
       "  <thead>\n",
       "    <tr style=\"text-align: right;\">\n",
       "      <th></th>\n",
       "      <th>topic</th>\n",
       "      <th>percent</th>\n",
       "    </tr>\n",
       "    <tr>\n",
       "      <th>index</th>\n",
       "      <th></th>\n",
       "      <th></th>\n",
       "    </tr>\n",
       "  </thead>\n",
       "  <tbody>\n",
       "    <tr>\n",
       "      <th>0</th>\n",
       "      <td>1</td>\n",
       "      <td>0.509356</td>\n",
       "    </tr>\n",
       "    <tr>\n",
       "      <th>1</th>\n",
       "      <td>1</td>\n",
       "      <td>0.441536</td>\n",
       "    </tr>\n",
       "    <tr>\n",
       "      <th>2</th>\n",
       "      <td>6</td>\n",
       "      <td>0.495062</td>\n",
       "    </tr>\n",
       "    <tr>\n",
       "      <th>3</th>\n",
       "      <td>1</td>\n",
       "      <td>0.460281</td>\n",
       "    </tr>\n",
       "    <tr>\n",
       "      <th>4</th>\n",
       "      <td>1</td>\n",
       "      <td>0.417479</td>\n",
       "    </tr>\n",
       "  </tbody>\n",
       "</table>\n",
       "</div>"
      ],
      "text/plain": [
       "       topic   percent\n",
       "index                 \n",
       "0          1  0.509356\n",
       "1          1  0.441536\n",
       "2          6  0.495062\n",
       "3          1  0.460281\n",
       "4          1  0.417479"
      ]
     },
     "execution_count": 278,
     "metadata": {},
     "output_type": "execute_result"
    }
   ],
   "source": [
    "idx = topics.groupby(['index'])['percent'].transform(max) == topics['percent']\n",
    "hot_topics = topics[idx].set_index('index')\n",
    "hot_topics.head()"
   ]
  },
  {
   "cell_type": "code",
   "execution_count": 279,
   "metadata": {},
   "outputs": [
    {
     "data": {
      "text/plain": [
       "topic\n",
       "0    1514\n",
       "1     142\n",
       "2     100\n",
       "3     636\n",
       "4     608\n",
       "5    1064\n",
       "6     346\n",
       "7     962\n",
       "dtype: int64"
      ]
     },
     "execution_count": 279,
     "metadata": {},
     "output_type": "execute_result"
    }
   ],
   "source": [
    "hot_topics.value_counts('topic').sort_index()"
   ]
  },
  {
   "cell_type": "code",
   "execution_count": 280,
   "metadata": {},
   "outputs": [],
   "source": [
    "airbnb_topics = hot_topics.join(airbnb)"
   ]
  },
  {
   "cell_type": "code",
   "execution_count": 281,
   "metadata": {},
   "outputs": [
    {
     "data": {
      "text/html": [
       "<div>\n",
       "<style scoped>\n",
       "    .dataframe tbody tr th:only-of-type {\n",
       "        vertical-align: middle;\n",
       "    }\n",
       "\n",
       "    .dataframe tbody tr th {\n",
       "        vertical-align: top;\n",
       "    }\n",
       "\n",
       "    .dataframe thead th {\n",
       "        text-align: right;\n",
       "    }\n",
       "</style>\n",
       "<table border=\"1\" class=\"dataframe\">\n",
       "  <thead>\n",
       "    <tr style=\"text-align: right;\">\n",
       "      <th></th>\n",
       "      <th>topic</th>\n",
       "      <th>percent</th>\n",
       "      <th>listing_id</th>\n",
       "      <th>comments_concatenated</th>\n",
       "      <th>name</th>\n",
       "      <th>host_id</th>\n",
       "      <th>latitude</th>\n",
       "      <th>longitude</th>\n",
       "      <th>price</th>\n",
       "      <th>minimum_nights</th>\n",
       "      <th>number_of_reviews</th>\n",
       "      <th>reviews_per_month</th>\n",
       "      <th>calculated_host_listings_count</th>\n",
       "      <th>availability_365</th>\n",
       "      <th>listing_url</th>\n",
       "      <th>description</th>\n",
       "      <th>neighborhood_overview</th>\n",
       "      <th>host_since</th>\n",
       "      <th>host_listings_count</th>\n",
       "      <th>property_type</th>\n",
       "      <th>accommodates</th>\n",
       "      <th>bathrooms_text</th>\n",
       "      <th>bedrooms</th>\n",
       "      <th>beds</th>\n",
       "      <th>amenities</th>\n",
       "      <th>minimum_nights_avg_ntm</th>\n",
       "      <th>maximum_nights_avg_ntm</th>\n",
       "      <th>review_scores_rating</th>\n",
       "      <th>review_scores_accuracy</th>\n",
       "      <th>review_scores_cleanliness</th>\n",
       "      <th>review_scores_checkin</th>\n",
       "      <th>review_scores_communication</th>\n",
       "      <th>review_scores_location</th>\n",
       "      <th>review_scores_value</th>\n",
       "      <th>zip_code</th>\n",
       "      <th>GEOID</th>\n",
       "      <th>house_price_2021-01-31</th>\n",
       "      <th>house_pct_change</th>\n",
       "      <th>rentals_2021-01-31</th>\n",
       "      <th>rental_price_pct_change</th>\n",
       "      <th>new_restaurants</th>\n",
       "      <th>available_beer</th>\n",
       "      <th>str_permits_2020</th>\n",
       "      <th>str_permits_growth</th>\n",
       "      <th>crimes</th>\n",
       "      <th>total_pop_2010</th>\n",
       "      <th>total_pop_2019</th>\n",
       "      <th>total_pop_change</th>\n",
       "      <th>total_pop_pct_change</th>\n",
       "      <th>pop_over25_2010</th>\n",
       "      <th>pop_over25_2019</th>\n",
       "      <th>pop_over25_change</th>\n",
       "      <th>pop_over25_pcg_change</th>\n",
       "      <th>total_households_2010</th>\n",
       "      <th>total_households_2019</th>\n",
       "      <th>total_households_change</th>\n",
       "      <th>total_households_pct_change</th>\n",
       "      <th>white_pct_2010</th>\n",
       "      <th>white_pct_2019</th>\n",
       "      <th>white_value_change</th>\n",
       "      <th>white_pct_change</th>\n",
       "      <th>bach_pct_2010</th>\n",
       "      <th>bach_pct_2019</th>\n",
       "      <th>bach_value_change</th>\n",
       "      <th>bach_pct_change</th>\n",
       "      <th>rent_pct_2010</th>\n",
       "      <th>rent_pct_2019</th>\n",
       "      <th>rent_value_change</th>\n",
       "      <th>renter_pct_change</th>\n",
       "      <th>median_hhi_2010</th>\n",
       "      <th>median_hhi_2019</th>\n",
       "      <th>median_hhi_value_change</th>\n",
       "      <th>median_hhi_pct_change</th>\n",
       "      <th>poverty_pct_2010</th>\n",
       "      <th>poverty_pct_2019</th>\n",
       "      <th>poverty_value_change</th>\n",
       "      <th>poverty_pct_change</th>\n",
       "      <th>gentrifying</th>\n",
       "    </tr>\n",
       "  </thead>\n",
       "  <tbody>\n",
       "    <tr>\n",
       "      <th>0</th>\n",
       "      <td>1</td>\n",
       "      <td>0.509356</td>\n",
       "      <td>6422.0</td>\n",
       "      <td>I can't say enough about how wonderful it was ...</td>\n",
       "      <td>Nashville Charm</td>\n",
       "      <td>12172.0</td>\n",
       "      <td>36.17315</td>\n",
       "      <td>-86.73581</td>\n",
       "      <td>40.0</td>\n",
       "      <td>30.0</td>\n",
       "      <td>674.0</td>\n",
       "      <td>4.69</td>\n",
       "      <td>1.0</td>\n",
       "      <td>267.0</td>\n",
       "      <td>https://www.airbnb.com/rooms/6422</td>\n",
       "      <td>30 day or more rental during COVID. Show COVID...</td>\n",
       "      <td>Historic East Nashville is home to many new an...</td>\n",
       "      <td>2009-04-03</td>\n",
       "      <td>0.0</td>\n",
       "      <td>Private room in house</td>\n",
       "      <td>2.0</td>\n",
       "      <td>1 private bath</td>\n",
       "      <td>2.0</td>\n",
       "      <td>3.0</td>\n",
       "      <td>[\"Hair dryer\", \"Bathtub\", \"Lock on bedroom doo...</td>\n",
       "      <td>30.0</td>\n",
       "      <td>365.0</td>\n",
       "      <td>99.0</td>\n",
       "      <td>10.0</td>\n",
       "      <td>10.0</td>\n",
       "      <td>10.0</td>\n",
       "      <td>10.0</td>\n",
       "      <td>10.0</td>\n",
       "      <td>10.0</td>\n",
       "      <td>37206.0</td>\n",
       "      <td>4.703701e+10</td>\n",
       "      <td>412476.0</td>\n",
       "      <td>38.31</td>\n",
       "      <td>NaN</td>\n",
       "      <td>NaN</td>\n",
       "      <td>1.0</td>\n",
       "      <td>2.0</td>\n",
       "      <td>114.0</td>\n",
       "      <td>114.0</td>\n",
       "      <td>1165.0</td>\n",
       "      <td>2544.0</td>\n",
       "      <td>2100.0</td>\n",
       "      <td>-444.0</td>\n",
       "      <td>-0.174528</td>\n",
       "      <td>1703.0</td>\n",
       "      <td>1639.0</td>\n",
       "      <td>-64.0</td>\n",
       "      <td>-0.037581</td>\n",
       "      <td>1140.0</td>\n",
       "      <td>926.0</td>\n",
       "      <td>-214.0</td>\n",
       "      <td>-0.187719</td>\n",
       "      <td>0.657626</td>\n",
       "      <td>0.940952</td>\n",
       "      <td>0.283327</td>\n",
       "      <td>0.430833</td>\n",
       "      <td>0.408691</td>\n",
       "      <td>0.585723</td>\n",
       "      <td>0.177032</td>\n",
       "      <td>0.433170</td>\n",
       "      <td>0.320175</td>\n",
       "      <td>0.240821</td>\n",
       "      <td>-0.079355</td>\n",
       "      <td>-0.247848</td>\n",
       "      <td>46000.0</td>\n",
       "      <td>91643.0</td>\n",
       "      <td>45643.0</td>\n",
       "      <td>0.992239</td>\n",
       "      <td>10.6</td>\n",
       "      <td>10.2</td>\n",
       "      <td>-0.4</td>\n",
       "      <td>-0.037736</td>\n",
       "      <td>False</td>\n",
       "    </tr>\n",
       "    <tr>\n",
       "      <th>1</th>\n",
       "      <td>1</td>\n",
       "      <td>0.441536</td>\n",
       "      <td>25613.0</td>\n",
       "      <td>Nell and Michael made my stay pleasant and eas...</td>\n",
       "      <td>Room in Historic East Nashville Craftsman Home</td>\n",
       "      <td>95811.0</td>\n",
       "      <td>36.17826</td>\n",
       "      <td>-86.74162</td>\n",
       "      <td>75.0</td>\n",
       "      <td>2.0</td>\n",
       "      <td>510.0</td>\n",
       "      <td>3.87</td>\n",
       "      <td>1.0</td>\n",
       "      <td>63.0</td>\n",
       "      <td>https://www.airbnb.com/rooms/25613</td>\n",
       "      <td>Serve up some sweet sounds on the piano and wi...</td>\n",
       "      <td>This home is in a walkable neighborhood with i...</td>\n",
       "      <td>2010-03-18</td>\n",
       "      <td>1.0</td>\n",
       "      <td>Private room in house</td>\n",
       "      <td>2.0</td>\n",
       "      <td>1 private bath</td>\n",
       "      <td>1.0</td>\n",
       "      <td>1.0</td>\n",
       "      <td>[\"Hair dryer\", \"Carbon monoxide alarm\", \"Air c...</td>\n",
       "      <td>2.0</td>\n",
       "      <td>1125.0</td>\n",
       "      <td>97.0</td>\n",
       "      <td>10.0</td>\n",
       "      <td>10.0</td>\n",
       "      <td>10.0</td>\n",
       "      <td>10.0</td>\n",
       "      <td>10.0</td>\n",
       "      <td>10.0</td>\n",
       "      <td>37206.0</td>\n",
       "      <td>4.703701e+10</td>\n",
       "      <td>412476.0</td>\n",
       "      <td>38.31</td>\n",
       "      <td>NaN</td>\n",
       "      <td>NaN</td>\n",
       "      <td>3.0</td>\n",
       "      <td>12.0</td>\n",
       "      <td>101.0</td>\n",
       "      <td>101.0</td>\n",
       "      <td>1048.0</td>\n",
       "      <td>2485.0</td>\n",
       "      <td>2525.0</td>\n",
       "      <td>40.0</td>\n",
       "      <td>0.016097</td>\n",
       "      <td>1895.0</td>\n",
       "      <td>1938.0</td>\n",
       "      <td>43.0</td>\n",
       "      <td>0.022691</td>\n",
       "      <td>1234.0</td>\n",
       "      <td>1092.0</td>\n",
       "      <td>-142.0</td>\n",
       "      <td>-0.115073</td>\n",
       "      <td>0.889738</td>\n",
       "      <td>0.930297</td>\n",
       "      <td>0.040559</td>\n",
       "      <td>0.045585</td>\n",
       "      <td>0.472296</td>\n",
       "      <td>0.742002</td>\n",
       "      <td>0.269707</td>\n",
       "      <td>0.571055</td>\n",
       "      <td>0.416532</td>\n",
       "      <td>0.274725</td>\n",
       "      <td>-0.141806</td>\n",
       "      <td>-0.340446</td>\n",
       "      <td>52372.0</td>\n",
       "      <td>116800.0</td>\n",
       "      <td>64428.0</td>\n",
       "      <td>1.230199</td>\n",
       "      <td>21.6</td>\n",
       "      <td>4.1</td>\n",
       "      <td>-17.5</td>\n",
       "      <td>-0.810185</td>\n",
       "      <td>True</td>\n",
       "    </tr>\n",
       "    <tr>\n",
       "      <th>2</th>\n",
       "      <td>6</td>\n",
       "      <td>0.495062</td>\n",
       "      <td>136015.0</td>\n",
       "      <td>Very relaxing, beautiful property, and warm / ...</td>\n",
       "      <td>Apart. on the Ridge near Opryland</td>\n",
       "      <td>666322.0</td>\n",
       "      <td>36.19464</td>\n",
       "      <td>-86.67195</td>\n",
       "      <td>103.0</td>\n",
       "      <td>30.0</td>\n",
       "      <td>50.0</td>\n",
       "      <td>0.43</td>\n",
       "      <td>2.0</td>\n",
       "      <td>190.0</td>\n",
       "      <td>https://www.airbnb.com/rooms/136015</td>\n",
       "      <td>Fantastic View! Overlooks farms and is on the ...</td>\n",
       "      <td>Dead end street with great neighbors!</td>\n",
       "      <td>2011-06-05</td>\n",
       "      <td>4.0</td>\n",
       "      <td>Entire apartment</td>\n",
       "      <td>2.0</td>\n",
       "      <td>1 bath</td>\n",
       "      <td>1.0</td>\n",
       "      <td>1.0</td>\n",
       "      <td>[\"Fire extinguisher\", \"Wifi\", \"Dryer\", \"Washer...</td>\n",
       "      <td>30.0</td>\n",
       "      <td>1125.0</td>\n",
       "      <td>97.0</td>\n",
       "      <td>10.0</td>\n",
       "      <td>10.0</td>\n",
       "      <td>10.0</td>\n",
       "      <td>10.0</td>\n",
       "      <td>10.0</td>\n",
       "      <td>10.0</td>\n",
       "      <td>37214.0</td>\n",
       "      <td>4.703702e+10</td>\n",
       "      <td>278031.0</td>\n",
       "      <td>65.43</td>\n",
       "      <td>1581.0</td>\n",
       "      <td>22.18</td>\n",
       "      <td>9.0</td>\n",
       "      <td>112.0</td>\n",
       "      <td>48.0</td>\n",
       "      <td>48.0</td>\n",
       "      <td>4429.0</td>\n",
       "      <td>5411.0</td>\n",
       "      <td>6024.0</td>\n",
       "      <td>613.0</td>\n",
       "      <td>0.113288</td>\n",
       "      <td>4451.0</td>\n",
       "      <td>4970.0</td>\n",
       "      <td>519.0</td>\n",
       "      <td>0.116603</td>\n",
       "      <td>2566.0</td>\n",
       "      <td>2714.0</td>\n",
       "      <td>148.0</td>\n",
       "      <td>0.057677</td>\n",
       "      <td>0.781186</td>\n",
       "      <td>0.760458</td>\n",
       "      <td>-0.020728</td>\n",
       "      <td>-0.026534</td>\n",
       "      <td>0.365311</td>\n",
       "      <td>0.430986</td>\n",
       "      <td>0.065675</td>\n",
       "      <td>0.179778</td>\n",
       "      <td>0.120811</td>\n",
       "      <td>0.179071</td>\n",
       "      <td>0.058261</td>\n",
       "      <td>0.482250</td>\n",
       "      <td>53590.0</td>\n",
       "      <td>68532.0</td>\n",
       "      <td>14942.0</td>\n",
       "      <td>0.278821</td>\n",
       "      <td>3.6</td>\n",
       "      <td>6.9</td>\n",
       "      <td>3.3</td>\n",
       "      <td>0.916667</td>\n",
       "      <td>False</td>\n",
       "    </tr>\n",
       "    <tr>\n",
       "      <th>3</th>\n",
       "      <td>1</td>\n",
       "      <td>0.460281</td>\n",
       "      <td>258817.0</td>\n",
       "      <td>Diana is such a gracious hostess.  She has a b...</td>\n",
       "      <td>ButterflyRoom-private bath- open Jan 26</td>\n",
       "      <td>22296.0</td>\n",
       "      <td>36.16249</td>\n",
       "      <td>-86.58988</td>\n",
       "      <td>27.0</td>\n",
       "      <td>30.0</td>\n",
       "      <td>96.0</td>\n",
       "      <td>0.86</td>\n",
       "      <td>7.0</td>\n",
       "      <td>364.0</td>\n",
       "      <td>https://www.airbnb.com/rooms/258817</td>\n",
       "      <td>Morningstar House! Extended stay - 3+ months- ...</td>\n",
       "      <td>I'm  very near the Percy Priest Lake, natural ...</td>\n",
       "      <td>2009-06-19</td>\n",
       "      <td>16.0</td>\n",
       "      <td>Private room in house</td>\n",
       "      <td>2.0</td>\n",
       "      <td>1 private bath</td>\n",
       "      <td>1.0</td>\n",
       "      <td>2.0</td>\n",
       "      <td>[\"Hair dryer\", \"Air conditioning\", \"Smoke alar...</td>\n",
       "      <td>30.0</td>\n",
       "      <td>365.0</td>\n",
       "      <td>95.0</td>\n",
       "      <td>10.0</td>\n",
       "      <td>9.0</td>\n",
       "      <td>10.0</td>\n",
       "      <td>10.0</td>\n",
       "      <td>9.0</td>\n",
       "      <td>9.0</td>\n",
       "      <td>37076.0</td>\n",
       "      <td>4.703702e+10</td>\n",
       "      <td>285278.0</td>\n",
       "      <td>51.53</td>\n",
       "      <td>NaN</td>\n",
       "      <td>NaN</td>\n",
       "      <td>1.0</td>\n",
       "      <td>4.0</td>\n",
       "      <td>10.0</td>\n",
       "      <td>10.0</td>\n",
       "      <td>3302.0</td>\n",
       "      <td>8025.0</td>\n",
       "      <td>9141.0</td>\n",
       "      <td>1116.0</td>\n",
       "      <td>0.139065</td>\n",
       "      <td>5408.0</td>\n",
       "      <td>6464.0</td>\n",
       "      <td>1056.0</td>\n",
       "      <td>0.195266</td>\n",
       "      <td>3467.0</td>\n",
       "      <td>4045.0</td>\n",
       "      <td>578.0</td>\n",
       "      <td>0.166715</td>\n",
       "      <td>0.828536</td>\n",
       "      <td>0.682420</td>\n",
       "      <td>-0.146116</td>\n",
       "      <td>-0.176354</td>\n",
       "      <td>0.483173</td>\n",
       "      <td>0.464882</td>\n",
       "      <td>-0.018291</td>\n",
       "      <td>-0.037855</td>\n",
       "      <td>0.471878</td>\n",
       "      <td>0.458344</td>\n",
       "      <td>-0.013534</td>\n",
       "      <td>-0.028681</td>\n",
       "      <td>64356.0</td>\n",
       "      <td>72235.0</td>\n",
       "      <td>7879.0</td>\n",
       "      <td>0.122428</td>\n",
       "      <td>3.4</td>\n",
       "      <td>7.1</td>\n",
       "      <td>3.7</td>\n",
       "      <td>1.088235</td>\n",
       "      <td>False</td>\n",
       "    </tr>\n",
       "    <tr>\n",
       "      <th>4</th>\n",
       "      <td>1</td>\n",
       "      <td>0.417479</td>\n",
       "      <td>289242.0</td>\n",
       "      <td>I had such a fantastic time at Diana's place. ...</td>\n",
       "      <td>MorningstarHouse, monthly room- open Feb  2</td>\n",
       "      <td>22296.0</td>\n",
       "      <td>36.16102</td>\n",
       "      <td>-86.59207</td>\n",
       "      <td>24.0</td>\n",
       "      <td>30.0</td>\n",
       "      <td>76.0</td>\n",
       "      <td>0.68</td>\n",
       "      <td>7.0</td>\n",
       "      <td>364.0</td>\n",
       "      <td>https://www.airbnb.com/rooms/289242</td>\n",
       "      <td>Morningstar House! Extended stay - price reduc...</td>\n",
       "      <td>The Morningstar House is in a quiet cul-de-sac...</td>\n",
       "      <td>2009-06-19</td>\n",
       "      <td>16.0</td>\n",
       "      <td>Private room in house</td>\n",
       "      <td>1.0</td>\n",
       "      <td>1 shared bath</td>\n",
       "      <td>1.0</td>\n",
       "      <td>3.0</td>\n",
       "      <td>[\"Hair dryer\", \"Air conditioning\", \"Smoke alar...</td>\n",
       "      <td>30.0</td>\n",
       "      <td>365.0</td>\n",
       "      <td>94.0</td>\n",
       "      <td>9.0</td>\n",
       "      <td>8.0</td>\n",
       "      <td>10.0</td>\n",
       "      <td>9.0</td>\n",
       "      <td>9.0</td>\n",
       "      <td>9.0</td>\n",
       "      <td>37076.0</td>\n",
       "      <td>4.703702e+10</td>\n",
       "      <td>285278.0</td>\n",
       "      <td>51.53</td>\n",
       "      <td>NaN</td>\n",
       "      <td>NaN</td>\n",
       "      <td>1.0</td>\n",
       "      <td>4.0</td>\n",
       "      <td>10.0</td>\n",
       "      <td>10.0</td>\n",
       "      <td>3302.0</td>\n",
       "      <td>8025.0</td>\n",
       "      <td>9141.0</td>\n",
       "      <td>1116.0</td>\n",
       "      <td>0.139065</td>\n",
       "      <td>5408.0</td>\n",
       "      <td>6464.0</td>\n",
       "      <td>1056.0</td>\n",
       "      <td>0.195266</td>\n",
       "      <td>3467.0</td>\n",
       "      <td>4045.0</td>\n",
       "      <td>578.0</td>\n",
       "      <td>0.166715</td>\n",
       "      <td>0.828536</td>\n",
       "      <td>0.682420</td>\n",
       "      <td>-0.146116</td>\n",
       "      <td>-0.176354</td>\n",
       "      <td>0.483173</td>\n",
       "      <td>0.464882</td>\n",
       "      <td>-0.018291</td>\n",
       "      <td>-0.037855</td>\n",
       "      <td>0.471878</td>\n",
       "      <td>0.458344</td>\n",
       "      <td>-0.013534</td>\n",
       "      <td>-0.028681</td>\n",
       "      <td>64356.0</td>\n",
       "      <td>72235.0</td>\n",
       "      <td>7879.0</td>\n",
       "      <td>0.122428</td>\n",
       "      <td>3.4</td>\n",
       "      <td>7.1</td>\n",
       "      <td>3.7</td>\n",
       "      <td>1.088235</td>\n",
       "      <td>False</td>\n",
       "    </tr>\n",
       "  </tbody>\n",
       "</table>\n",
       "</div>"
      ],
      "text/plain": [
       "   topic   percent  listing_id                              comments_concatenated                                            name   host_id  latitude  longitude  price  minimum_nights  number_of_reviews  reviews_per_month  calculated_host_listings_count  availability_365                          listing_url                                        description                              neighborhood_overview  host_since  host_listings_count          property_type  accommodates  bathrooms_text  bedrooms  beds                                          amenities  minimum_nights_avg_ntm  maximum_nights_avg_ntm  review_scores_rating  review_scores_accuracy  review_scores_cleanliness  review_scores_checkin  review_scores_communication  review_scores_location  review_scores_value  zip_code         GEOID  house_price_2021-01-31  house_pct_change  rentals_2021-01-31  rental_price_pct_change  new_restaurants  available_beer  str_permits_2020  str_permits_growth  crimes  total_pop_2010  \\\n",
       "0      1  0.509356      6422.0  I can't say enough about how wonderful it was ...                                 Nashville Charm   12172.0  36.17315  -86.73581   40.0            30.0              674.0               4.69                             1.0             267.0    https://www.airbnb.com/rooms/6422  30 day or more rental during COVID. Show COVID...  Historic East Nashville is home to many new an...  2009-04-03                  0.0  Private room in house           2.0  1 private bath       2.0   3.0  [\"Hair dryer\", \"Bathtub\", \"Lock on bedroom doo...                    30.0                   365.0                  99.0                    10.0                       10.0                   10.0                         10.0                    10.0                 10.0   37206.0  4.703701e+10                412476.0             38.31                 NaN                      NaN              1.0             2.0             114.0               114.0  1165.0          2544.0   \n",
       "1      1  0.441536     25613.0  Nell and Michael made my stay pleasant and eas...  Room in Historic East Nashville Craftsman Home   95811.0  36.17826  -86.74162   75.0             2.0              510.0               3.87                             1.0              63.0   https://www.airbnb.com/rooms/25613  Serve up some sweet sounds on the piano and wi...  This home is in a walkable neighborhood with i...  2010-03-18                  1.0  Private room in house           2.0  1 private bath       1.0   1.0  [\"Hair dryer\", \"Carbon monoxide alarm\", \"Air c...                     2.0                  1125.0                  97.0                    10.0                       10.0                   10.0                         10.0                    10.0                 10.0   37206.0  4.703701e+10                412476.0             38.31                 NaN                      NaN              3.0            12.0             101.0               101.0  1048.0          2485.0   \n",
       "2      6  0.495062    136015.0  Very relaxing, beautiful property, and warm / ...               Apart. on the Ridge near Opryland  666322.0  36.19464  -86.67195  103.0            30.0               50.0               0.43                             2.0             190.0  https://www.airbnb.com/rooms/136015  Fantastic View! Overlooks farms and is on the ...              Dead end street with great neighbors!  2011-06-05                  4.0       Entire apartment           2.0          1 bath       1.0   1.0  [\"Fire extinguisher\", \"Wifi\", \"Dryer\", \"Washer...                    30.0                  1125.0                  97.0                    10.0                       10.0                   10.0                         10.0                    10.0                 10.0   37214.0  4.703702e+10                278031.0             65.43              1581.0                    22.18              9.0           112.0              48.0                48.0  4429.0          5411.0   \n",
       "3      1  0.460281    258817.0  Diana is such a gracious hostess.  She has a b...         ButterflyRoom-private bath- open Jan 26   22296.0  36.16249  -86.58988   27.0            30.0               96.0               0.86                             7.0             364.0  https://www.airbnb.com/rooms/258817  Morningstar House! Extended stay - 3+ months- ...  I'm  very near the Percy Priest Lake, natural ...  2009-06-19                 16.0  Private room in house           2.0  1 private bath       1.0   2.0  [\"Hair dryer\", \"Air conditioning\", \"Smoke alar...                    30.0                   365.0                  95.0                    10.0                        9.0                   10.0                         10.0                     9.0                  9.0   37076.0  4.703702e+10                285278.0             51.53                 NaN                      NaN              1.0             4.0              10.0                10.0  3302.0          8025.0   \n",
       "4      1  0.417479    289242.0  I had such a fantastic time at Diana's place. ...     MorningstarHouse, monthly room- open Feb  2   22296.0  36.16102  -86.59207   24.0            30.0               76.0               0.68                             7.0             364.0  https://www.airbnb.com/rooms/289242  Morningstar House! Extended stay - price reduc...  The Morningstar House is in a quiet cul-de-sac...  2009-06-19                 16.0  Private room in house           1.0   1 shared bath       1.0   3.0  [\"Hair dryer\", \"Air conditioning\", \"Smoke alar...                    30.0                   365.0                  94.0                     9.0                        8.0                   10.0                          9.0                     9.0                  9.0   37076.0  4.703702e+10                285278.0             51.53                 NaN                      NaN              1.0             4.0              10.0                10.0  3302.0          8025.0   \n",
       "\n",
       "   total_pop_2019  total_pop_change  total_pop_pct_change  pop_over25_2010  pop_over25_2019  pop_over25_change  pop_over25_pcg_change  total_households_2010  total_households_2019  total_households_change  total_households_pct_change  white_pct_2010  white_pct_2019  white_value_change  white_pct_change  bach_pct_2010  bach_pct_2019  bach_value_change  bach_pct_change  rent_pct_2010  rent_pct_2019  rent_value_change  renter_pct_change  median_hhi_2010  median_hhi_2019  median_hhi_value_change  median_hhi_pct_change  poverty_pct_2010  poverty_pct_2019  poverty_value_change  poverty_pct_change gentrifying  \n",
       "0          2100.0            -444.0             -0.174528           1703.0           1639.0              -64.0              -0.037581                 1140.0                  926.0                   -214.0                    -0.187719        0.657626        0.940952            0.283327          0.430833       0.408691       0.585723           0.177032         0.433170       0.320175       0.240821          -0.079355          -0.247848          46000.0          91643.0                  45643.0               0.992239              10.6              10.2                  -0.4           -0.037736       False  \n",
       "1          2525.0              40.0              0.016097           1895.0           1938.0               43.0               0.022691                 1234.0                 1092.0                   -142.0                    -0.115073        0.889738        0.930297            0.040559          0.045585       0.472296       0.742002           0.269707         0.571055       0.416532       0.274725          -0.141806          -0.340446          52372.0         116800.0                  64428.0               1.230199              21.6               4.1                 -17.5           -0.810185        True  \n",
       "2          6024.0             613.0              0.113288           4451.0           4970.0              519.0               0.116603                 2566.0                 2714.0                    148.0                     0.057677        0.781186        0.760458           -0.020728         -0.026534       0.365311       0.430986           0.065675         0.179778       0.120811       0.179071           0.058261           0.482250          53590.0          68532.0                  14942.0               0.278821               3.6               6.9                   3.3            0.916667       False  \n",
       "3          9141.0            1116.0              0.139065           5408.0           6464.0             1056.0               0.195266                 3467.0                 4045.0                    578.0                     0.166715        0.828536        0.682420           -0.146116         -0.176354       0.483173       0.464882          -0.018291        -0.037855       0.471878       0.458344          -0.013534          -0.028681          64356.0          72235.0                   7879.0               0.122428               3.4               7.1                   3.7            1.088235       False  \n",
       "4          9141.0            1116.0              0.139065           5408.0           6464.0             1056.0               0.195266                 3467.0                 4045.0                    578.0                     0.166715        0.828536        0.682420           -0.146116         -0.176354       0.483173       0.464882          -0.018291        -0.037855       0.471878       0.458344          -0.013534          -0.028681          64356.0          72235.0                   7879.0               0.122428               3.4               7.1                   3.7            1.088235       False  "
      ]
     },
     "execution_count": 281,
     "metadata": {},
     "output_type": "execute_result"
    }
   ],
   "source": [
    "airbnb_topics.head()"
   ]
  },
  {
   "cell_type": "code",
   "execution_count": 282,
   "metadata": {},
   "outputs": [],
   "source": [
    "airbnb_topics_df = airbnb_topics[['listing_id', 'topic', 'GEOID']]"
   ]
  },
  {
   "cell_type": "code",
   "execution_count": 283,
   "metadata": {},
   "outputs": [],
   "source": [
    "airbnb_topics_df.to_csv('../data/airbnb_topics_df.csv', index=False)"
   ]
  },
  {
   "cell_type": "code",
   "execution_count": 248,
   "metadata": {},
   "outputs": [],
   "source": [
    "airbnb_topics_negative = airbnb_topics[airbnb_topics['topic']==1]"
   ]
  },
  {
   "cell_type": "code",
   "execution_count": 249,
   "metadata": {},
   "outputs": [
    {
     "data": {
      "text/plain": [
       "gentrifying\n",
       "False    17\n",
       "True      4\n",
       "dtype: int64"
      ]
     },
     "execution_count": 249,
     "metadata": {},
     "output_type": "execute_result"
    }
   ],
   "source": [
    "airbnb_topics_negative.value_counts('gentrifying')"
   ]
  },
  {
   "cell_type": "code",
   "execution_count": null,
   "metadata": {},
   "outputs": [],
   "source": []
  },
  {
   "cell_type": "code",
   "execution_count": 70,
   "metadata": {},
   "outputs": [
    {
     "ename": "TypeError",
     "evalue": "'<' not supported between instances of 'int' and 'tuple'",
     "output_type": "error",
     "traceback": [
      "\u001b[0;31m---------------------------------------------------------------------------\u001b[0m",
      "\u001b[0;31mTypeError\u001b[0m                                 Traceback (most recent call last)",
      "\u001b[0;32m<ipython-input-70-a911974a7b3d>\u001b[0m in \u001b[0;36m<module>\u001b[0;34m\u001b[0m\n\u001b[1;32m     22\u001b[0m \u001b[0;34m\u001b[0m\u001b[0m\n\u001b[1;32m     23\u001b[0m \u001b[0;34m\u001b[0m\u001b[0m\n\u001b[0;32m---> 24\u001b[0;31m \u001b[0mdf_topic_sents_keywords\u001b[0m \u001b[0;34m=\u001b[0m \u001b[0mformat_topics_sentences\u001b[0m\u001b[0;34m(\u001b[0m\u001b[0mldamodel\u001b[0m\u001b[0;34m=\u001b[0m\u001b[0mlda_model\u001b[0m\u001b[0;34m,\u001b[0m \u001b[0mcorpus\u001b[0m\u001b[0;34m=\u001b[0m\u001b[0mcorpus\u001b[0m\u001b[0;34m,\u001b[0m \u001b[0mtexts\u001b[0m\u001b[0;34m=\u001b[0m\u001b[0mdata\u001b[0m\u001b[0;34m)\u001b[0m\u001b[0;34m\u001b[0m\u001b[0;34m\u001b[0m\u001b[0m\n\u001b[0m\u001b[1;32m     25\u001b[0m \u001b[0;34m\u001b[0m\u001b[0m\n\u001b[1;32m     26\u001b[0m \u001b[0;31m# Format\u001b[0m\u001b[0;34m\u001b[0m\u001b[0;34m\u001b[0m\u001b[0;34m\u001b[0m\u001b[0m\n",
      "\u001b[0;32m<ipython-input-70-a911974a7b3d>\u001b[0m in \u001b[0;36mformat_topics_sentences\u001b[0;34m(ldamodel, corpus, texts)\u001b[0m\n\u001b[1;32m      5\u001b[0m     \u001b[0;31m# Get main topic in each document\u001b[0m\u001b[0;34m\u001b[0m\u001b[0;34m\u001b[0m\u001b[0;34m\u001b[0m\u001b[0m\n\u001b[1;32m      6\u001b[0m     \u001b[0;32mfor\u001b[0m \u001b[0mi\u001b[0m\u001b[0;34m,\u001b[0m \u001b[0mrow\u001b[0m \u001b[0;32min\u001b[0m \u001b[0menumerate\u001b[0m\u001b[0;34m(\u001b[0m\u001b[0mldamodel\u001b[0m\u001b[0;34m[\u001b[0m\u001b[0mcorpus\u001b[0m\u001b[0;34m]\u001b[0m\u001b[0;34m)\u001b[0m\u001b[0;34m:\u001b[0m\u001b[0;34m\u001b[0m\u001b[0;34m\u001b[0m\u001b[0m\n\u001b[0;32m----> 7\u001b[0;31m         \u001b[0mrow\u001b[0m \u001b[0;34m=\u001b[0m \u001b[0msorted\u001b[0m\u001b[0;34m(\u001b[0m\u001b[0mrow\u001b[0m\u001b[0;34m,\u001b[0m \u001b[0mkey\u001b[0m\u001b[0;34m=\u001b[0m\u001b[0;32mlambda\u001b[0m \u001b[0mx\u001b[0m\u001b[0;34m:\u001b[0m \u001b[0;34m(\u001b[0m\u001b[0mx\u001b[0m\u001b[0;34m)\u001b[0m\u001b[0;34m,\u001b[0m \u001b[0mreverse\u001b[0m\u001b[0;34m=\u001b[0m\u001b[0;32mTrue\u001b[0m\u001b[0;34m)\u001b[0m\u001b[0;34m\u001b[0m\u001b[0;34m\u001b[0m\u001b[0m\n\u001b[0m\u001b[1;32m      8\u001b[0m         \u001b[0;31m# Get the Dominant topic, Perc Contribution and Keywords for each document\u001b[0m\u001b[0;34m\u001b[0m\u001b[0;34m\u001b[0m\u001b[0;34m\u001b[0m\u001b[0m\n\u001b[1;32m      9\u001b[0m         \u001b[0;32mfor\u001b[0m \u001b[0mj\u001b[0m\u001b[0;34m,\u001b[0m \u001b[0;34m(\u001b[0m\u001b[0mtopic_num\u001b[0m\u001b[0;34m,\u001b[0m \u001b[0mprop_topic\u001b[0m\u001b[0;34m)\u001b[0m \u001b[0;32min\u001b[0m \u001b[0menumerate\u001b[0m\u001b[0;34m(\u001b[0m\u001b[0mrow\u001b[0m\u001b[0;34m)\u001b[0m\u001b[0;34m:\u001b[0m\u001b[0;34m\u001b[0m\u001b[0;34m\u001b[0m\u001b[0m\n",
      "\u001b[0;31mTypeError\u001b[0m: '<' not supported between instances of 'int' and 'tuple'"
     ]
    }
   ],
   "source": [
    "def format_topics_sentences(ldamodel=lda_model, corpus=corpus, texts=data):\n",
    "    # Init output\n",
    "    sent_topics_df = pd.DataFrame()\n",
    "\n",
    "    # Get main topic in each document\n",
    "    for i, row in enumerate(ldamodel[corpus]):\n",
    "        row = sorted(row, key=lambda x: (x[1]), reverse=True)\n",
    "        # Get the Dominant topic, Perc Contribution and Keywords for each document\n",
    "        for j, (topic_num, prop_topic) in enumerate(row):\n",
    "            if j == 0:  # => dominant topic\n",
    "                wp = ldamodel.show_topic(topic_num)\n",
    "                topic_keywords = \", \".join([word for word, prop in wp])\n",
    "                sent_topics_df = sent_topics_df.append(pd.Series([int(topic_num), round(prop_topic,4), topic_keywords]), ignore_index=True)\n",
    "            else:\n",
    "                break\n",
    "    sent_topics_df.columns = ['Dominant_Topic', 'Perc_Contribution', 'Topic_Keywords']\n",
    "\n",
    "    # Add original text to the end of the output\n",
    "    contents = pd.Series(texts)\n",
    "    sent_topics_df = pd.concat([sent_topics_df, contents], axis=1)\n",
    "    return(sent_topics_df)\n",
    "\n",
    "\n",
    "df_topic_sents_keywords = format_topics_sentences(ldamodel=lda_model, corpus=corpus, texts=data)\n",
    "\n",
    "# Format\n",
    "df_dominant_topic = df_topic_sents_keywords.reset_index()\n",
    "df_dominant_topic.columns = ['Document_No', 'Dominant_Topic', 'Topic_Perc_Contrib', 'Keywords', 'Text']\n",
    "\n",
    "# Show\n",
    "df_dominant_topic.head(10)"
   ]
  },
  {
   "cell_type": "markdown",
   "metadata": {},
   "source": [
    "## Find most representative Reviews for each Topic"
   ]
  },
  {
   "cell_type": "code",
   "execution_count": null,
   "metadata": {},
   "outputs": [],
   "source": [
    "for i in range(6):\n",
    "    for j in range(5):\n",
    "\n",
    "        file = topics[topics.topic == i].sort_values('percent', ascending = False).head().iloc[j, 0]\n",
    "\n",
    "        cmd = f'cp {file} representative_docs/topic_{i + 1}/.'\n",
    "\n",
    "        os.system(cmd)"
   ]
  },
  {
   "cell_type": "markdown",
   "metadata": {},
   "source": [
    "## Sample from Housing Project (this isn't working)"
   ]
  },
  {
   "cell_type": "code",
   "execution_count": null,
   "metadata": {},
   "outputs": [],
   "source": [
    "# This is just a previous code, for safekeeping.\n",
    "# Create a tokenizing function that takes text and removes all numbers\n",
    "#def tokenizer(text):\n",
    "#    return [x for x in re.findall(r'[a-z]+', text.lower()) if len(x) > 1]"
   ]
  },
  {
   "cell_type": "code",
   "execution_count": null,
   "metadata": {},
   "outputs": [],
   "source": [
    "airbnb_train.head(1)"
   ]
  },
  {
   "cell_type": "code",
   "execution_count": null,
   "metadata": {},
   "outputs": [],
   "source": [
    "# using a list comprehension, iterate over the four permit type contents and vectorize them using the TfidfVectorizer\n",
    "vectorizer_test1 = TfidfVectorizer(\n",
    "    tokenizer = tokenizer, \n",
    "    stop_words = 'english', \n",
    "    #min_df=50, \n",
    "    #max_df=0.4, \n",
    "    #ngram_range=(1,3)\n",
    ").fit(airbnb_train)"
   ]
  },
  {
   "cell_type": "code",
   "execution_count": null,
   "metadata": {},
   "outputs": [],
   "source": [
    "# Check to see the shape of the first sparse matrix generated\n",
    "vectorizer_test1.transform(airbnb_train)"
   ]
  },
  {
   "cell_type": "markdown",
   "metadata": {},
   "source": [
    "## Sample from Gensim Blog\n",
    "https://towardsdatascience.com/topic-modeling-and-latent-dirichlet-allocation-in-python-9bf156893c24"
   ]
  },
  {
   "cell_type": "code",
   "execution_count": null,
   "metadata": {},
   "outputs": [],
   "source": [
    "def lemmatize_stemming(text):\n",
    "    return stemmer.stem(WordNetLemmatizer().lemmatize(text, pos='v'))\n",
    "\n",
    "def preprocess(text):\n",
    "    result = []\n",
    "    for token in gensim.utils.simple_preprocess(text):\n",
    "        if token not in gensim.parsing.preprocessing.STOPWORDS and len(token) > 3:\n",
    "            result.append(lemmatize_stemming(token))\n",
    "    return result"
   ]
  },
  {
   "cell_type": "code",
   "execution_count": null,
   "metadata": {},
   "outputs": [],
   "source": [
    "test_comment = airbnb.comments_concatenated.iloc[2]"
   ]
  },
  {
   "cell_type": "code",
   "execution_count": null,
   "metadata": {},
   "outputs": [],
   "source": [
    "print('original document: ')\n",
    "words = []\n",
    "for word in test_comment.split(' '):\n",
    "    words.append(word)\n",
    "print(words)\n",
    "print('\\n\\n tokenized and lemmatized document: ')\n",
    "print(preprocess(test_comment))"
   ]
  },
  {
   "cell_type": "markdown",
   "metadata": {},
   "source": [
    "## Try again from Michael's Notebook"
   ]
  },
  {
   "cell_type": "code",
   "execution_count": null,
   "metadata": {},
   "outputs": [],
   "source": [
    "docs = airbnb.copy()['comments_concatenated'].iloc[0:3]"
   ]
  },
  {
   "cell_type": "code",
   "execution_count": null,
   "metadata": {},
   "outputs": [],
   "source": [
    "docs[0]"
   ]
  },
  {
   "cell_type": "code",
   "execution_count": null,
   "metadata": {},
   "outputs": [],
   "source": [
    "# Split the documents into tokens.\n",
    "tokenizer = RegexpTokenizer(r'\\w+')\n",
    "for idx in tqdm(range(len(docs))):\n",
    "    docs[idx] = docs[idx].lower()  # Convert to lowercase.\n",
    "    docs[idx] = tokenizer.tokenize(docs[idx])  # Split into words.\n",
    "\n",
    "# Remove numbers, but not words that contain numbers.\n",
    "docs = [[token for token in doc if not token.isnumeric()] for doc in docs]\n",
    "\n",
    "# Remove words that are only one character.\n",
    "docs = [[token for token in doc if len(token) > 2] for doc in docs]\n",
    "\n",
    "lemmatizer = WordNetLemmatizer()\n",
    "docs = [[lemmatizer.lemmatize(token) for token in doc] for doc in docs]"
   ]
  },
  {
   "cell_type": "code",
   "execution_count": null,
   "metadata": {},
   "outputs": [],
   "source": []
  },
  {
   "cell_type": "code",
   "execution_count": null,
   "metadata": {},
   "outputs": [],
   "source": []
  },
  {
   "cell_type": "code",
   "execution_count": null,
   "metadata": {},
   "outputs": [],
   "source": []
  },
  {
   "cell_type": "markdown",
   "metadata": {},
   "source": [
    "## Rest of Michael's walkthrough below"
   ]
  },
  {
   "cell_type": "code",
   "execution_count": null,
   "metadata": {},
   "outputs": [],
   "source": [
    "# Create a dictionary representation of the documents.\n",
    "dictionary = Dictionary(docs)\n",
    "\n",
    "# Filter out words that occur less than 20 documents, or more than 50% of the documents.\n",
    "dictionary.filter_extremes(no_below=20, no_above=0.5)"
   ]
  },
  {
   "cell_type": "code",
   "execution_count": null,
   "metadata": {},
   "outputs": [],
   "source": [
    "# Bag-of-words representation of the documents.\n",
    "corpus = [dictionary.doc2bow(doc) for doc in docs]"
   ]
  },
  {
   "cell_type": "code",
   "execution_count": null,
   "metadata": {},
   "outputs": [],
   "source": [
    "# Set training parameters.\n",
    "num_topics = 6\n",
    "chunksize = 2000\n",
    "passes = 20\n",
    "iterations = 400\n",
    "eval_every = None  # Don't evaluate model perplexity, takes too much time.\n",
    "\n",
    "# Make a index to word dictionary.\n",
    "temp = dictionary[0]  # This is only to \"load\" the dictionary.\n",
    "id2word = dictionary.id2token\n",
    "\n",
    "model = LdaModel(\n",
    "    corpus=corpus,\n",
    "    id2word=id2word,\n",
    "    chunksize=chunksize,\n",
    "    alpha='auto',\n",
    "    eta='auto',\n",
    "    iterations=iterations,\n",
    "    num_topics=num_topics,\n",
    "    passes=passes,\n",
    "    eval_every=eval_every\n",
    ")"
   ]
  }
 ],
 "metadata": {
  "kernelspec": {
   "display_name": "Python 3",
   "language": "python",
   "name": "python3"
  },
  "language_info": {
   "codemirror_mode": {
    "name": "ipython",
    "version": 3
   },
   "file_extension": ".py",
   "mimetype": "text/x-python",
   "name": "python",
   "nbconvert_exporter": "python",
   "pygments_lexer": "ipython3",
   "version": "3.8.3"
  }
 },
 "nbformat": 4,
 "nbformat_minor": 4
}
