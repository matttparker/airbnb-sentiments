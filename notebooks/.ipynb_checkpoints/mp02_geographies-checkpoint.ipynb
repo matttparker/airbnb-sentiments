{
 "cells": [
  {
   "cell_type": "code",
   "execution_count": 610,
   "metadata": {},
   "outputs": [],
   "source": [
    "import pandas as pd\n",
    "import numpy as np\n",
    "import matplotlib.pyplot as plt\n",
    "#import seaborn as sns\n",
    "#import scipy.stats as stats\n",
    "#import statsmodels.api as sm\n",
    "import re\n",
    "from shapely.geometry import Point\n",
    "from scipy.spatial import distance\n",
    "import geopandas as gpd\n",
    "import folium\n",
    "from folium.plugins import MarkerCluster\n",
    "from folium.plugins import FastMarkerCluster\n",
    "import math\n",
    "import geopy.distance\n",
    "from geopy.geocoders import Nominatim\n",
    "from tqdm.notebook import tqdm\n",
    "%matplotlib inline"
   ]
  },
  {
   "cell_type": "markdown",
   "metadata": {},
   "source": [
    "## Read in and clean geometry data"
   ]
  },
  {
   "cell_type": "code",
   "execution_count": 611,
   "metadata": {},
   "outputs": [],
   "source": [
    "zips = gpd.read_file('../data/cb_2018_us_zcta510_500k.shp')"
   ]
  },
  {
   "cell_type": "code",
   "execution_count": 612,
   "metadata": {},
   "outputs": [],
   "source": [
    "nashville_zips = ['37013', '37027', '37076', '37115', '37138', '37201', '37138', '37201',\n",
    "                 '37203', '37204', '37205', '37206', '37207', '37208', '37209', '37210',\n",
    "                 '37211', '37212', '37214', '37215', '37216', '37217', '37218', '27219',\n",
    "                 '37220', '37221']"
   ]
  },
  {
   "cell_type": "code",
   "execution_count": 613,
   "metadata": {},
   "outputs": [],
   "source": [
    "zips = zips[zips['ZCTA5CE10'].isin(nashville_zips)][['ZCTA5CE10', 'geometry']]"
   ]
  },
  {
   "cell_type": "code",
   "execution_count": 614,
   "metadata": {},
   "outputs": [
    {
     "data": {
      "text/html": [
       "<div>\n",
       "<style scoped>\n",
       "    .dataframe tbody tr th:only-of-type {\n",
       "        vertical-align: middle;\n",
       "    }\n",
       "\n",
       "    .dataframe tbody tr th {\n",
       "        vertical-align: top;\n",
       "    }\n",
       "\n",
       "    .dataframe thead th {\n",
       "        text-align: right;\n",
       "    }\n",
       "</style>\n",
       "<table border=\"1\" class=\"dataframe\">\n",
       "  <thead>\n",
       "    <tr style=\"text-align: right;\">\n",
       "      <th></th>\n",
       "      <th>ZCTA5CE10</th>\n",
       "      <th>geometry</th>\n",
       "    </tr>\n",
       "  </thead>\n",
       "  <tbody>\n",
       "    <tr>\n",
       "      <th>7175</th>\n",
       "      <td>37206</td>\n",
       "      <td>POLYGON ((-86.77081 36.17450, -86.76648 36.176...</td>\n",
       "    </tr>\n",
       "    <tr>\n",
       "      <th>8822</th>\n",
       "      <td>37209</td>\n",
       "      <td>MULTIPOLYGON (((-86.93498 36.08941, -86.93395 ...</td>\n",
       "    </tr>\n",
       "    <tr>\n",
       "      <th>9944</th>\n",
       "      <td>37220</td>\n",
       "      <td>POLYGON ((-86.81273 36.06564, -86.81088 36.070...</td>\n",
       "    </tr>\n",
       "    <tr>\n",
       "      <th>10005</th>\n",
       "      <td>37214</td>\n",
       "      <td>POLYGON ((-86.70855 36.17047, -86.70444 36.174...</td>\n",
       "    </tr>\n",
       "    <tr>\n",
       "      <th>13055</th>\n",
       "      <td>37201</td>\n",
       "      <td>POLYGON ((-86.78531 36.17486, -86.78059 36.175...</td>\n",
       "    </tr>\n",
       "  </tbody>\n",
       "</table>\n",
       "</div>"
      ],
      "text/plain": [
       "      ZCTA5CE10                                           geometry\n",
       "7175      37206  POLYGON ((-86.77081 36.17450, -86.76648 36.176...\n",
       "8822      37209  MULTIPOLYGON (((-86.93498 36.08941, -86.93395 ...\n",
       "9944      37220  POLYGON ((-86.81273 36.06564, -86.81088 36.070...\n",
       "10005     37214  POLYGON ((-86.70855 36.17047, -86.70444 36.174...\n",
       "13055     37201  POLYGON ((-86.78531 36.17486, -86.78059 36.175..."
      ]
     },
     "execution_count": 614,
     "metadata": {},
     "output_type": "execute_result"
    }
   ],
   "source": [
    "zips.head()"
   ]
  },
  {
   "cell_type": "code",
   "execution_count": 615,
   "metadata": {},
   "outputs": [],
   "source": [
    "zips.columns = ['zip_code', 'geometry']"
   ]
  },
  {
   "cell_type": "code",
   "execution_count": 616,
   "metadata": {},
   "outputs": [],
   "source": [
    "tracts = gpd.read_file('../data/cb_2018_47_tract_500k.shp')"
   ]
  },
  {
   "cell_type": "code",
   "execution_count": 617,
   "metadata": {},
   "outputs": [
    {
     "data": {
      "text/html": [
       "<div>\n",
       "<style scoped>\n",
       "    .dataframe tbody tr th:only-of-type {\n",
       "        vertical-align: middle;\n",
       "    }\n",
       "\n",
       "    .dataframe tbody tr th {\n",
       "        vertical-align: top;\n",
       "    }\n",
       "\n",
       "    .dataframe thead th {\n",
       "        text-align: right;\n",
       "    }\n",
       "</style>\n",
       "<table border=\"1\" class=\"dataframe\">\n",
       "  <thead>\n",
       "    <tr style=\"text-align: right;\">\n",
       "      <th></th>\n",
       "      <th>STATEFP</th>\n",
       "      <th>COUNTYFP</th>\n",
       "      <th>TRACTCE</th>\n",
       "      <th>AFFGEOID</th>\n",
       "      <th>GEOID</th>\n",
       "      <th>NAME</th>\n",
       "      <th>LSAD</th>\n",
       "      <th>ALAND</th>\n",
       "      <th>AWATER</th>\n",
       "      <th>geometry</th>\n",
       "    </tr>\n",
       "  </thead>\n",
       "  <tbody>\n",
       "    <tr>\n",
       "      <th>0</th>\n",
       "      <td>47</td>\n",
       "      <td>093</td>\n",
       "      <td>001900</td>\n",
       "      <td>1400000US47093001900</td>\n",
       "      <td>47093001900</td>\n",
       "      <td>19</td>\n",
       "      <td>CT</td>\n",
       "      <td>2203514</td>\n",
       "      <td>13116</td>\n",
       "      <td>POLYGON ((-83.90062 35.99202, -83.88800 36.000...</td>\n",
       "    </tr>\n",
       "    <tr>\n",
       "      <th>1</th>\n",
       "      <td>47</td>\n",
       "      <td>093</td>\n",
       "      <td>003902</td>\n",
       "      <td>1400000US47093003902</td>\n",
       "      <td>47093003902</td>\n",
       "      <td>39.02</td>\n",
       "      <td>CT</td>\n",
       "      <td>3451146</td>\n",
       "      <td>0</td>\n",
       "      <td>POLYGON ((-83.98563 36.00119, -83.98152 36.004...</td>\n",
       "    </tr>\n",
       "    <tr>\n",
       "      <th>2</th>\n",
       "      <td>47</td>\n",
       "      <td>093</td>\n",
       "      <td>004404</td>\n",
       "      <td>1400000US47093004404</td>\n",
       "      <td>47093004404</td>\n",
       "      <td>44.04</td>\n",
       "      <td>CT</td>\n",
       "      <td>5964584</td>\n",
       "      <td>11451</td>\n",
       "      <td>POLYGON ((-84.03695 35.93007, -84.02293 35.933...</td>\n",
       "    </tr>\n",
       "    <tr>\n",
       "      <th>3</th>\n",
       "      <td>47</td>\n",
       "      <td>093</td>\n",
       "      <td>005708</td>\n",
       "      <td>1400000US47093005708</td>\n",
       "      <td>47093005708</td>\n",
       "      <td>57.08</td>\n",
       "      <td>CT</td>\n",
       "      <td>3557676</td>\n",
       "      <td>38601</td>\n",
       "      <td>POLYGON ((-84.11800 35.86332, -84.11387 35.866...</td>\n",
       "    </tr>\n",
       "    <tr>\n",
       "      <th>4</th>\n",
       "      <td>47</td>\n",
       "      <td>093</td>\n",
       "      <td>006103</td>\n",
       "      <td>1400000US47093006103</td>\n",
       "      <td>47093006103</td>\n",
       "      <td>61.03</td>\n",
       "      <td>CT</td>\n",
       "      <td>6437142</td>\n",
       "      <td>0</td>\n",
       "      <td>POLYGON ((-84.07012 36.02888, -84.06820 36.031...</td>\n",
       "    </tr>\n",
       "  </tbody>\n",
       "</table>\n",
       "</div>"
      ],
      "text/plain": [
       "  STATEFP COUNTYFP TRACTCE              AFFGEOID        GEOID   NAME LSAD  \\\n",
       "0      47      093  001900  1400000US47093001900  47093001900     19   CT   \n",
       "1      47      093  003902  1400000US47093003902  47093003902  39.02   CT   \n",
       "2      47      093  004404  1400000US47093004404  47093004404  44.04   CT   \n",
       "3      47      093  005708  1400000US47093005708  47093005708  57.08   CT   \n",
       "4      47      093  006103  1400000US47093006103  47093006103  61.03   CT   \n",
       "\n",
       "     ALAND  AWATER                                           geometry  \n",
       "0  2203514   13116  POLYGON ((-83.90062 35.99202, -83.88800 36.000...  \n",
       "1  3451146       0  POLYGON ((-83.98563 36.00119, -83.98152 36.004...  \n",
       "2  5964584   11451  POLYGON ((-84.03695 35.93007, -84.02293 35.933...  \n",
       "3  3557676   38601  POLYGON ((-84.11800 35.86332, -84.11387 35.866...  \n",
       "4  6437142       0  POLYGON ((-84.07012 36.02888, -84.06820 36.031...  "
      ]
     },
     "execution_count": 617,
     "metadata": {},
     "output_type": "execute_result"
    }
   ],
   "source": [
    "tracts.head()"
   ]
  },
  {
   "cell_type": "code",
   "execution_count": 618,
   "metadata": {},
   "outputs": [],
   "source": [
    "tracts['FIPS'] = tracts.STATEFP + tracts.COUNTYFP"
   ]
  },
  {
   "cell_type": "code",
   "execution_count": 619,
   "metadata": {},
   "outputs": [],
   "source": [
    "tracts = tracts[tracts['FIPS']=='47037'][['GEOID', 'geometry']]"
   ]
  },
  {
   "cell_type": "code",
   "execution_count": 620,
   "metadata": {},
   "outputs": [
    {
     "data": {
      "text/html": [
       "<div>\n",
       "<style scoped>\n",
       "    .dataframe tbody tr th:only-of-type {\n",
       "        vertical-align: middle;\n",
       "    }\n",
       "\n",
       "    .dataframe tbody tr th {\n",
       "        vertical-align: top;\n",
       "    }\n",
       "\n",
       "    .dataframe thead th {\n",
       "        text-align: right;\n",
       "    }\n",
       "</style>\n",
       "<table border=\"1\" class=\"dataframe\">\n",
       "  <thead>\n",
       "    <tr style=\"text-align: right;\">\n",
       "      <th></th>\n",
       "      <th>GEOID</th>\n",
       "      <th>geometry</th>\n",
       "    </tr>\n",
       "  </thead>\n",
       "  <tbody>\n",
       "    <tr>\n",
       "      <th>6</th>\n",
       "      <td>47037015625</td>\n",
       "      <td>POLYGON ((-86.65754 36.11937, -86.65558 36.122...</td>\n",
       "    </tr>\n",
       "    <tr>\n",
       "      <th>7</th>\n",
       "      <td>47037016000</td>\n",
       "      <td>POLYGON ((-86.77265 36.14987, -86.76948 36.151...</td>\n",
       "    </tr>\n",
       "    <tr>\n",
       "      <th>8</th>\n",
       "      <td>47037017300</td>\n",
       "      <td>POLYGON ((-86.75091 36.12039, -86.75051 36.121...</td>\n",
       "    </tr>\n",
       "    <tr>\n",
       "      <th>9</th>\n",
       "      <td>47037018409</td>\n",
       "      <td>POLYGON ((-86.98225 36.07529, -86.98171 36.075...</td>\n",
       "    </tr>\n",
       "    <tr>\n",
       "      <th>10</th>\n",
       "      <td>47037019106</td>\n",
       "      <td>POLYGON ((-86.74414 36.04342, -86.74375 36.047...</td>\n",
       "    </tr>\n",
       "  </tbody>\n",
       "</table>\n",
       "</div>"
      ],
      "text/plain": [
       "          GEOID                                           geometry\n",
       "6   47037015625  POLYGON ((-86.65754 36.11937, -86.65558 36.122...\n",
       "7   47037016000  POLYGON ((-86.77265 36.14987, -86.76948 36.151...\n",
       "8   47037017300  POLYGON ((-86.75091 36.12039, -86.75051 36.121...\n",
       "9   47037018409  POLYGON ((-86.98225 36.07529, -86.98171 36.075...\n",
       "10  47037019106  POLYGON ((-86.74414 36.04342, -86.74375 36.047..."
      ]
     },
     "execution_count": 620,
     "metadata": {},
     "output_type": "execute_result"
    }
   ],
   "source": [
    "tracts.head()"
   ]
  },
  {
   "cell_type": "code",
   "execution_count": 621,
   "metadata": {},
   "outputs": [
    {
     "data": {
      "text/plain": [
       "<AxesSubplot:>"
      ]
     },
     "execution_count": 621,
     "metadata": {},
     "output_type": "execute_result"
    },
    {
     "data": {
      "image/png": "[encoded data removed]",
      "text/plain": [
       "<Figure size 432x288 with 1 Axes>"
      ]
     },
     "metadata": {
      "needs_background": "light"
     },
     "output_type": "display_data"
    }
   ],
   "source": [
    "tracts.plot()"
   ]
  },
  {
   "cell_type": "markdown",
   "metadata": {},
   "source": [
    "## Pull in AirBNB to find Zip Code and Census Tract"
   ]
  },
  {
   "cell_type": "code",
   "execution_count": 622,
   "metadata": {},
   "outputs": [],
   "source": [
    "listings = pd.read_csv('../data/listings.csv.gz', compression='gzip',\n",
    "                   error_bad_lines=False)"
   ]
  },
  {
   "cell_type": "code",
   "execution_count": 623,
   "metadata": {},
   "outputs": [],
   "source": [
    "listings = listings[['id', 'latitude', 'longitude']]"
   ]
  },
  {
   "cell_type": "code",
   "execution_count": 624,
   "metadata": {},
   "outputs": [],
   "source": [
    "listings['geometry'] = listings.apply(lambda x: Point((float(x.longitude), \n",
    "                                                                 float(x.latitude))), \n",
    "                                                axis=1)"
   ]
  },
  {
   "cell_type": "code",
   "execution_count": 625,
   "metadata": {},
   "outputs": [
    {
     "data": {
      "text/html": [
       "<div>\n",
       "<style scoped>\n",
       "    .dataframe tbody tr th:only-of-type {\n",
       "        vertical-align: middle;\n",
       "    }\n",
       "\n",
       "    .dataframe tbody tr th {\n",
       "        vertical-align: top;\n",
       "    }\n",
       "\n",
       "    .dataframe thead th {\n",
       "        text-align: right;\n",
       "    }\n",
       "</style>\n",
       "<table border=\"1\" class=\"dataframe\">\n",
       "  <thead>\n",
       "    <tr style=\"text-align: right;\">\n",
       "      <th></th>\n",
       "      <th>id</th>\n",
       "      <th>latitude</th>\n",
       "      <th>longitude</th>\n",
       "      <th>geometry</th>\n",
       "    </tr>\n",
       "  </thead>\n",
       "  <tbody>\n",
       "    <tr>\n",
       "      <th>0</th>\n",
       "      <td>6422</td>\n",
       "      <td>36.17315</td>\n",
       "      <td>-86.73581</td>\n",
       "      <td>POINT (-86.73581 36.17315)</td>\n",
       "    </tr>\n",
       "    <tr>\n",
       "      <th>1</th>\n",
       "      <td>25613</td>\n",
       "      <td>36.17826</td>\n",
       "      <td>-86.74162</td>\n",
       "      <td>POINT (-86.74162 36.17825999999999)</td>\n",
       "    </tr>\n",
       "    <tr>\n",
       "      <th>2</th>\n",
       "      <td>136015</td>\n",
       "      <td>36.19464</td>\n",
       "      <td>-86.67195</td>\n",
       "      <td>POINT (-86.67195 36.19464)</td>\n",
       "    </tr>\n",
       "    <tr>\n",
       "      <th>3</th>\n",
       "      <td>258817</td>\n",
       "      <td>36.16249</td>\n",
       "      <td>-86.58988</td>\n",
       "      <td>POINT (-86.58988000000001 36.16249000000001)</td>\n",
       "    </tr>\n",
       "    <tr>\n",
       "      <th>4</th>\n",
       "      <td>289242</td>\n",
       "      <td>36.16102</td>\n",
       "      <td>-86.59207</td>\n",
       "      <td>POINT (-86.59206999999999 36.16102)</td>\n",
       "    </tr>\n",
       "  </tbody>\n",
       "</table>\n",
       "</div>"
      ],
      "text/plain": [
       "       id  latitude  longitude                                      geometry\n",
       "0    6422  36.17315  -86.73581                    POINT (-86.73581 36.17315)\n",
       "1   25613  36.17826  -86.74162           POINT (-86.74162 36.17825999999999)\n",
       "2  136015  36.19464  -86.67195                    POINT (-86.67195 36.19464)\n",
       "3  258817  36.16249  -86.58988  POINT (-86.58988000000001 36.16249000000001)\n",
       "4  289242  36.16102  -86.59207           POINT (-86.59206999999999 36.16102)"
      ]
     },
     "execution_count": 625,
     "metadata": {},
     "output_type": "execute_result"
    }
   ],
   "source": [
    "listings.head()"
   ]
  },
  {
   "cell_type": "code",
   "execution_count": 626,
   "metadata": {},
   "outputs": [],
   "source": [
    "listings_geo = gpd.GeoDataFrame(listings, \n",
    "                                crs = tracts.crs, \n",
    "                                geometry = listings['geometry'])"
   ]
  },
  {
   "cell_type": "code",
   "execution_count": 627,
   "metadata": {},
   "outputs": [],
   "source": [
    "listings_geo = gpd.sjoin(listings_geo, zips, op = 'within').drop(columns='index_right')"
   ]
  },
  {
   "cell_type": "code",
   "execution_count": 628,
   "metadata": {},
   "outputs": [],
   "source": [
    "listings_geo = gpd.sjoin(listings_geo, tracts, op = 'within').drop(columns='index_right')"
   ]
  },
  {
   "cell_type": "code",
   "execution_count": 629,
   "metadata": {},
   "outputs": [],
   "source": [
    "listings_geo = listings_geo[['id', 'zip_code', 'GEOID']]"
   ]
  },
  {
   "cell_type": "code",
   "execution_count": 630,
   "metadata": {},
   "outputs": [
    {
     "data": {
      "text/html": [
       "<div>\n",
       "<style scoped>\n",
       "    .dataframe tbody tr th:only-of-type {\n",
       "        vertical-align: middle;\n",
       "    }\n",
       "\n",
       "    .dataframe tbody tr th {\n",
       "        vertical-align: top;\n",
       "    }\n",
       "\n",
       "    .dataframe thead th {\n",
       "        text-align: right;\n",
       "    }\n",
       "</style>\n",
       "<table border=\"1\" class=\"dataframe\">\n",
       "  <thead>\n",
       "    <tr style=\"text-align: right;\">\n",
       "      <th></th>\n",
       "      <th>id</th>\n",
       "      <th>zip_code</th>\n",
       "      <th>GEOID</th>\n",
       "    </tr>\n",
       "  </thead>\n",
       "  <tbody>\n",
       "    <tr>\n",
       "      <th>0</th>\n",
       "      <td>6422</td>\n",
       "      <td>37206</td>\n",
       "      <td>47037012200</td>\n",
       "    </tr>\n",
       "    <tr>\n",
       "      <th>17</th>\n",
       "      <td>674159</td>\n",
       "      <td>37206</td>\n",
       "      <td>47037012200</td>\n",
       "    </tr>\n",
       "    <tr>\n",
       "      <th>32</th>\n",
       "      <td>1537921</td>\n",
       "      <td>37206</td>\n",
       "      <td>47037012200</td>\n",
       "    </tr>\n",
       "    <tr>\n",
       "      <th>57</th>\n",
       "      <td>2181743</td>\n",
       "      <td>37206</td>\n",
       "      <td>47037012200</td>\n",
       "    </tr>\n",
       "    <tr>\n",
       "      <th>67</th>\n",
       "      <td>2581896</td>\n",
       "      <td>37206</td>\n",
       "      <td>47037012200</td>\n",
       "    </tr>\n",
       "  </tbody>\n",
       "</table>\n",
       "</div>"
      ],
      "text/plain": [
       "         id zip_code        GEOID\n",
       "0      6422    37206  47037012200\n",
       "17   674159    37206  47037012200\n",
       "32  1537921    37206  47037012200\n",
       "57  2181743    37206  47037012200\n",
       "67  2581896    37206  47037012200"
      ]
     },
     "execution_count": 630,
     "metadata": {},
     "output_type": "execute_result"
    }
   ],
   "source": [
    "listings_geo.head()"
   ]
  },
  {
   "cell_type": "code",
   "execution_count": 632,
   "metadata": {},
   "outputs": [],
   "source": [
    "#listings_geo.to_csv('../data/listings_geo.csv', index=False)"
   ]
  },
  {
   "cell_type": "markdown",
   "metadata": {},
   "source": [
    "## Match geo of Occupancy"
   ]
  },
  {
   "cell_type": "code",
   "execution_count": 689,
   "metadata": {},
   "outputs": [
    {
     "name": "stderr",
     "output_type": "stream",
     "text": [
      "/opt/anaconda3/envs/earthquakes/lib/python3.8/site-packages/IPython/core/interactiveshell.py:3145: DtypeWarning: Columns (0) have mixed types.Specify dtype option on import or set low_memory=False.\n",
      "  has_raised = await self.run_ast_nodes(code_ast.body, cell_name,\n"
     ]
    }
   ],
   "source": [
    "occupancy = pd.read_csv('../data/Building_Permits_Issued.csv')"
   ]
  },
  {
   "cell_type": "code",
   "execution_count": 690,
   "metadata": {},
   "outputs": [
    {
     "data": {
      "text/html": [
       "<div>\n",
       "<style scoped>\n",
       "    .dataframe tbody tr th:only-of-type {\n",
       "        vertical-align: middle;\n",
       "    }\n",
       "\n",
       "    .dataframe tbody tr th {\n",
       "        vertical-align: top;\n",
       "    }\n",
       "\n",
       "    .dataframe thead th {\n",
       "        text-align: right;\n",
       "    }\n",
       "</style>\n",
       "<table border=\"1\" class=\"dataframe\">\n",
       "  <thead>\n",
       "    <tr style=\"text-align: right;\">\n",
       "      <th></th>\n",
       "      <th>Permit #</th>\n",
       "      <th>Permit Type Description</th>\n",
       "      <th>Permit Subtype Description</th>\n",
       "      <th>Parcel</th>\n",
       "      <th>Date Entered</th>\n",
       "      <th>Date Issued</th>\n",
       "      <th>Construction Cost</th>\n",
       "      <th>Address</th>\n",
       "      <th>City</th>\n",
       "      <th>State</th>\n",
       "      <th>ZIP</th>\n",
       "      <th>Subdivision / Lot</th>\n",
       "      <th>Contact</th>\n",
       "      <th>Permit Type</th>\n",
       "      <th>Permit Subtype</th>\n",
       "      <th>IVR Tracking #</th>\n",
       "      <th>Purpose</th>\n",
       "      <th>Council District</th>\n",
       "      <th>Census Tract</th>\n",
       "      <th>Mapped Location</th>\n",
       "    </tr>\n",
       "  </thead>\n",
       "  <tbody>\n",
       "    <tr>\n",
       "      <th>0</th>\n",
       "      <td>2021021204</td>\n",
       "      <td>Building Residential - New</td>\n",
       "      <td>Single Family Residence</td>\n",
       "      <td>07112039200</td>\n",
       "      <td>04/07/2021</td>\n",
       "      <td>05/05/2021</td>\n",
       "      <td>292188.0</td>\n",
       "      <td>1807  JOY CIR</td>\n",
       "      <td>NASHVILLE</td>\n",
       "      <td>TN</td>\n",
       "      <td>3720.0</td>\n",
       "      <td>LOT 54 JOYWOOD SUB</td>\n",
       "      <td>HARP DEVELOPMENT LLC</td>\n",
       "      <td>CARN</td>\n",
       "      <td>CAA01R301</td>\n",
       "      <td>3963014</td>\n",
       "      <td>to construct a single family residence with 24...</td>\n",
       "      <td>5.0</td>\n",
       "      <td>37011300.0</td>\n",
       "      <td>1807 JOY CIR\\nNASHVILLE, TN 03720\\n(36.202582,...</td>\n",
       "    </tr>\n",
       "    <tr>\n",
       "      <th>1</th>\n",
       "      <td>2021027119</td>\n",
       "      <td>Building Sign Permit</td>\n",
       "      <td>Sign - Ground /  Wall Signs</td>\n",
       "      <td>10701000100</td>\n",
       "      <td>04/30/2021</td>\n",
       "      <td>05/05/2021</td>\n",
       "      <td>5000.0</td>\n",
       "      <td>1717  ELM HILL PIKE</td>\n",
       "      <td>NASHVILLE</td>\n",
       "      <td>TN</td>\n",
       "      <td>37210.0</td>\n",
       "      <td>LOT 44 REV SEC 36 &amp; 19 METRO IND PARK</td>\n",
       "      <td>BOOM SIGN AND LIGHTING</td>\n",
       "      <td>CASN</td>\n",
       "      <td>CAZ02A001</td>\n",
       "      <td>3976785</td>\n",
       "      <td>to erect 57SF illuminated monument sign for Th...</td>\n",
       "      <td>15.0</td>\n",
       "      <td>37019600.0</td>\n",
       "      <td>1717 ELM HILL PIKE\\nNASHVILLE, TN 37210\\n(36.1...</td>\n",
       "    </tr>\n",
       "    <tr>\n",
       "      <th>2</th>\n",
       "      <td>2021018673</td>\n",
       "      <td>Building Sign Permit</td>\n",
       "      <td>Sign - Ground /  Wall Signs</td>\n",
       "      <td>09100004700</td>\n",
       "      <td>03/29/2021</td>\n",
       "      <td>05/05/2021</td>\n",
       "      <td>5400.0</td>\n",
       "      <td>4717  CENTENNIAL BLVD</td>\n",
       "      <td>NASHVILLE</td>\n",
       "      <td>TN</td>\n",
       "      <td>37209.0</td>\n",
       "      <td>S/S JOHN A. MERRITT BV E OF 49TH AVE NO</td>\n",
       "      <td>BOZMAN SIGN CO INC</td>\n",
       "      <td>CASN</td>\n",
       "      <td>CAZ02A001</td>\n",
       "      <td>3956834</td>\n",
       "      <td>Install a 56 SF illuminated wall sign, BROADST...</td>\n",
       "      <td>20.0</td>\n",
       "      <td>37013300.0</td>\n",
       "      <td>4717 CENTENNIAL BLVD\\nNASHVILLE, TN 37209\\n(36...</td>\n",
       "    </tr>\n",
       "    <tr>\n",
       "      <th>3</th>\n",
       "      <td>2021027318</td>\n",
       "      <td>Building Residential - Roofing / Siding</td>\n",
       "      <td>Single Family Residence</td>\n",
       "      <td>10408022600</td>\n",
       "      <td>05/01/2021</td>\n",
       "      <td>05/05/2021</td>\n",
       "      <td>35000.0</td>\n",
       "      <td>1219A  16TH AVE S</td>\n",
       "      <td>NASHVILLE</td>\n",
       "      <td>TN</td>\n",
       "      <td>37212.0</td>\n",
       "      <td>PT LOT 30 HAYES ROKEBY PLAN</td>\n",
       "      <td>WALLER, R E MASONRY CONSTRUCTION CO</td>\n",
       "      <td>CARK</td>\n",
       "      <td>CAA01R301</td>\n",
       "      <td>3977329</td>\n",
       "      <td>remodel of interior and siding outside on hous...</td>\n",
       "      <td>17.0</td>\n",
       "      <td>37016400.0</td>\n",
       "      <td>1219A 16TH AVE S\\nNASHVILLE, TN 37212\\n(36.141...</td>\n",
       "    </tr>\n",
       "    <tr>\n",
       "      <th>4</th>\n",
       "      <td>2021028012</td>\n",
       "      <td>Building Sign Permit</td>\n",
       "      <td>Sign - Ground /  Wall Signs</td>\n",
       "      <td>09116002200</td>\n",
       "      <td>05/05/2021</td>\n",
       "      <td>05/05/2021</td>\n",
       "      <td>2140.0</td>\n",
       "      <td>4525  CHARLOTTE AVE</td>\n",
       "      <td>NASHVILLE</td>\n",
       "      <td>TN</td>\n",
       "      <td>37209.0</td>\n",
       "      <td>S E CORNER OF CHARLOTTE AVE &amp; 46TH AVE</td>\n",
       "      <td>JOSLIN SIGN &amp; MAINTENANCE CO INC</td>\n",
       "      <td>CASN</td>\n",
       "      <td>CAZ02A001</td>\n",
       "      <td>3979293</td>\n",
       "      <td>to erect 25Sf non illuminated wall sign and 10...</td>\n",
       "      <td>24.0</td>\n",
       "      <td>37013400.0</td>\n",
       "      <td>4525 CHARLOTTE AVE\\nNASHVILLE, TN 37209\\n(36.1...</td>\n",
       "    </tr>\n",
       "  </tbody>\n",
       "</table>\n",
       "</div>"
      ],
      "text/plain": [
       "     Permit #                  Permit Type Description  \\\n",
       "0  2021021204               Building Residential - New   \n",
       "1  2021027119                     Building Sign Permit   \n",
       "2  2021018673                     Building Sign Permit   \n",
       "3  2021027318  Building Residential - Roofing / Siding   \n",
       "4  2021028012                     Building Sign Permit   \n",
       "\n",
       "    Permit Subtype Description       Parcel Date Entered Date Issued  \\\n",
       "0      Single Family Residence  07112039200   04/07/2021  05/05/2021   \n",
       "1  Sign - Ground /  Wall Signs  10701000100   04/30/2021  05/05/2021   \n",
       "2  Sign - Ground /  Wall Signs  09100004700   03/29/2021  05/05/2021   \n",
       "3      Single Family Residence  10408022600   05/01/2021  05/05/2021   \n",
       "4  Sign - Ground /  Wall Signs  09116002200   05/05/2021  05/05/2021   \n",
       "\n",
       "   Construction Cost                Address       City State      ZIP  \\\n",
       "0           292188.0          1807  JOY CIR  NASHVILLE    TN   3720.0   \n",
       "1             5000.0    1717  ELM HILL PIKE  NASHVILLE    TN  37210.0   \n",
       "2             5400.0  4717  CENTENNIAL BLVD  NASHVILLE    TN  37209.0   \n",
       "3            35000.0      1219A  16TH AVE S  NASHVILLE    TN  37212.0   \n",
       "4             2140.0    4525  CHARLOTTE AVE  NASHVILLE    TN  37209.0   \n",
       "\n",
       "                         Subdivision / Lot  \\\n",
       "0                       LOT 54 JOYWOOD SUB   \n",
       "1    LOT 44 REV SEC 36 & 19 METRO IND PARK   \n",
       "2  S/S JOHN A. MERRITT BV E OF 49TH AVE NO   \n",
       "3              PT LOT 30 HAYES ROKEBY PLAN   \n",
       "4   S E CORNER OF CHARLOTTE AVE & 46TH AVE   \n",
       "\n",
       "                               Contact Permit Type Permit Subtype  \\\n",
       "0                 HARP DEVELOPMENT LLC        CARN      CAA01R301   \n",
       "1               BOOM SIGN AND LIGHTING        CASN      CAZ02A001   \n",
       "2                   BOZMAN SIGN CO INC        CASN      CAZ02A001   \n",
       "3  WALLER, R E MASONRY CONSTRUCTION CO        CARK      CAA01R301   \n",
       "4     JOSLIN SIGN & MAINTENANCE CO INC        CASN      CAZ02A001   \n",
       "\n",
       "   IVR Tracking #                                            Purpose  \\\n",
       "0         3963014  to construct a single family residence with 24...   \n",
       "1         3976785  to erect 57SF illuminated monument sign for Th...   \n",
       "2         3956834  Install a 56 SF illuminated wall sign, BROADST...   \n",
       "3         3977329  remodel of interior and siding outside on hous...   \n",
       "4         3979293  to erect 25Sf non illuminated wall sign and 10...   \n",
       "\n",
       "   Council District  Census Tract  \\\n",
       "0               5.0    37011300.0   \n",
       "1              15.0    37019600.0   \n",
       "2              20.0    37013300.0   \n",
       "3              17.0    37016400.0   \n",
       "4              24.0    37013400.0   \n",
       "\n",
       "                                     Mapped Location  \n",
       "0  1807 JOY CIR\\nNASHVILLE, TN 03720\\n(36.202582,...  \n",
       "1  1717 ELM HILL PIKE\\nNASHVILLE, TN 37210\\n(36.1...  \n",
       "2  4717 CENTENNIAL BLVD\\nNASHVILLE, TN 37209\\n(36...  \n",
       "3  1219A 16TH AVE S\\nNASHVILLE, TN 37212\\n(36.141...  \n",
       "4  4525 CHARLOTTE AVE\\nNASHVILLE, TN 37209\\n(36.1...  "
      ]
     },
     "execution_count": 690,
     "metadata": {},
     "output_type": "execute_result"
    }
   ],
   "source": [
    "occupancy.head()"
   ]
  },
  {
   "cell_type": "code",
   "execution_count": 691,
   "metadata": {},
   "outputs": [],
   "source": [
    "occupancy = occupancy[['Permit #', 'Mapped Location']]"
   ]
  },
  {
   "cell_type": "code",
   "execution_count": 692,
   "metadata": {},
   "outputs": [],
   "source": [
    "occupancy = occupancy[occupancy['Mapped Location'].str.contains('\\(')]"
   ]
  },
  {
   "cell_type": "code",
   "execution_count": 693,
   "metadata": {},
   "outputs": [],
   "source": [
    "occupancy['lat'] = occupancy['Mapped Location'].apply(\n",
    "    lambda x: float(x.split('(')[1].split(',')[0]))"
   ]
  },
  {
   "cell_type": "code",
   "execution_count": 694,
   "metadata": {},
   "outputs": [],
   "source": [
    "occupancy['lon'] = occupancy['Mapped Location'].apply(\n",
    "    lambda x: float(x.split('(')[1].split(' ')[1].split(')')[0]))"
   ]
  },
  {
   "cell_type": "code",
   "execution_count": 695,
   "metadata": {},
   "outputs": [],
   "source": [
    "occupancy['geometry'] = occupancy.apply(lambda x: Point((float(x.lon), \n",
    "                                                                 float(x.lat))), \n",
    "                                                axis=1)"
   ]
  },
  {
   "cell_type": "code",
   "execution_count": 696,
   "metadata": {},
   "outputs": [],
   "source": [
    "occupancy_geo = gpd.GeoDataFrame(occupancy, \n",
    "                                crs = zips.crs, \n",
    "                                geometry = occupancy['geometry'])"
   ]
  },
  {
   "cell_type": "code",
   "execution_count": 697,
   "metadata": {},
   "outputs": [],
   "source": [
    "occupancy_geo = gpd.sjoin(occupancy_geo, tracts, op = 'within').drop(columns='index_right')"
   ]
  },
  {
   "cell_type": "code",
   "execution_count": 698,
   "metadata": {},
   "outputs": [],
   "source": [
    "occupancy_geo = occupancy_geo[['Permit #', 'GEOID']]"
   ]
  },
  {
   "cell_type": "code",
   "execution_count": 699,
   "metadata": {},
   "outputs": [
    {
     "data": {
      "text/html": [
       "<div>\n",
       "<style scoped>\n",
       "    .dataframe tbody tr th:only-of-type {\n",
       "        vertical-align: middle;\n",
       "    }\n",
       "\n",
       "    .dataframe tbody tr th {\n",
       "        vertical-align: top;\n",
       "    }\n",
       "\n",
       "    .dataframe thead th {\n",
       "        text-align: right;\n",
       "    }\n",
       "</style>\n",
       "<table border=\"1\" class=\"dataframe\">\n",
       "  <thead>\n",
       "    <tr style=\"text-align: right;\">\n",
       "      <th></th>\n",
       "      <th>Permit #</th>\n",
       "      <th>GEOID</th>\n",
       "    </tr>\n",
       "  </thead>\n",
       "  <tbody>\n",
       "    <tr>\n",
       "      <th>0</th>\n",
       "      <td>2021021204</td>\n",
       "      <td>47037011300</td>\n",
       "    </tr>\n",
       "    <tr>\n",
       "      <th>9</th>\n",
       "      <td>2021027755</td>\n",
       "      <td>47037011300</td>\n",
       "    </tr>\n",
       "    <tr>\n",
       "      <th>11</th>\n",
       "      <td>2021026649</td>\n",
       "      <td>47037011300</td>\n",
       "    </tr>\n",
       "    <tr>\n",
       "      <th>27</th>\n",
       "      <td>2021021205</td>\n",
       "      <td>47037011300</td>\n",
       "    </tr>\n",
       "    <tr>\n",
       "      <th>174</th>\n",
       "      <td>2021027118</td>\n",
       "      <td>47037011300</td>\n",
       "    </tr>\n",
       "  </tbody>\n",
       "</table>\n",
       "</div>"
      ],
      "text/plain": [
       "       Permit #        GEOID\n",
       "0    2021021204  47037011300\n",
       "9    2021027755  47037011300\n",
       "11   2021026649  47037011300\n",
       "27   2021021205  47037011300\n",
       "174  2021027118  47037011300"
      ]
     },
     "execution_count": 699,
     "metadata": {},
     "output_type": "execute_result"
    }
   ],
   "source": [
    "occupancy_geo.head()"
   ]
  },
  {
   "cell_type": "code",
   "execution_count": 701,
   "metadata": {},
   "outputs": [],
   "source": [
    "#occupancy_geo.to_csv('../data/occupancy_geo.csv', index=False)"
   ]
  },
  {
   "cell_type": "markdown",
   "metadata": {},
   "source": [
    "## Match geo of Beers"
   ]
  },
  {
   "cell_type": "code",
   "execution_count": 646,
   "metadata": {},
   "outputs": [],
   "source": [
    "beer = pd.read_csv('../data/Beer_Permit_Locations.csv')"
   ]
  },
  {
   "cell_type": "code",
   "execution_count": 647,
   "metadata": {},
   "outputs": [
    {
     "data": {
      "text/html": [
       "<div>\n",
       "<style scoped>\n",
       "    .dataframe tbody tr th:only-of-type {\n",
       "        vertical-align: middle;\n",
       "    }\n",
       "\n",
       "    .dataframe tbody tr th {\n",
       "        vertical-align: top;\n",
       "    }\n",
       "\n",
       "    .dataframe thead th {\n",
       "        text-align: right;\n",
       "    }\n",
       "</style>\n",
       "<table border=\"1\" class=\"dataframe\">\n",
       "  <thead>\n",
       "    <tr style=\"text-align: right;\">\n",
       "      <th></th>\n",
       "      <th>Permit #</th>\n",
       "      <th>Status</th>\n",
       "      <th>Permit Type</th>\n",
       "      <th>Permit SubType</th>\n",
       "      <th>Permit Sub Type Description</th>\n",
       "      <th>Date Entered</th>\n",
       "      <th>Date Issued</th>\n",
       "      <th>Parcel</th>\n",
       "      <th>Business Name</th>\n",
       "      <th>Business Owner</th>\n",
       "      <th>Address</th>\n",
       "      <th>City</th>\n",
       "      <th>State</th>\n",
       "      <th>Zip</th>\n",
       "      <th>Council District</th>\n",
       "      <th>Census Tract</th>\n",
       "      <th>Mapped Location</th>\n",
       "    </tr>\n",
       "  </thead>\n",
       "  <tbody>\n",
       "    <tr>\n",
       "      <th>0</th>\n",
       "      <td>19-25846</td>\n",
       "      <td>ISSUED</td>\n",
       "      <td>BBPERMIT</td>\n",
       "      <td>ONSALES</td>\n",
       "      <td>BB - On Site Sales</td>\n",
       "      <td>01/24/2019</td>\n",
       "      <td>06/03/2019</td>\n",
       "      <td>16300030200</td>\n",
       "      <td>EXO-TIKKA INDIAN CUSINE</td>\n",
       "      <td>NaN</td>\n",
       "      <td>5385  MT VIEW RD</td>\n",
       "      <td>ANTIOCH</td>\n",
       "      <td>TN</td>\n",
       "      <td>37013.0</td>\n",
       "      <td>32.0</td>\n",
       "      <td>37015629.0</td>\n",
       "      <td>5385 MT VIEW RD\\nANTIOCH, TN 37013\\n(36.047649...</td>\n",
       "    </tr>\n",
       "    <tr>\n",
       "      <th>1</th>\n",
       "      <td>16-20340</td>\n",
       "      <td>ISSUED</td>\n",
       "      <td>BBPERMIT</td>\n",
       "      <td>ONSALES</td>\n",
       "      <td>BB - On Site Sales</td>\n",
       "      <td>05/18/2016</td>\n",
       "      <td>09/23/2016</td>\n",
       "      <td>09114025000</td>\n",
       "      <td>Las Palmas Mexican Restaurant</td>\n",
       "      <td>Las Palmas Mexican Restaurant Inc, Qurino Onate</td>\n",
       "      <td>5821  Charlotte PIKE</td>\n",
       "      <td>Nashville</td>\n",
       "      <td>TN</td>\n",
       "      <td>37209.0</td>\n",
       "      <td>20.0</td>\n",
       "      <td>37018101.0</td>\n",
       "      <td>5821 Charlotte PIKE\\nNashville, TN 37209\\n(36....</td>\n",
       "    </tr>\n",
       "    <tr>\n",
       "      <th>2</th>\n",
       "      <td>17-00205</td>\n",
       "      <td>ISSUED</td>\n",
       "      <td>BBPERMIT</td>\n",
       "      <td>WHOLESALES</td>\n",
       "      <td>BB - Wholesale, Distributor</td>\n",
       "      <td>11/03/2016</td>\n",
       "      <td>07/10/2017</td>\n",
       "      <td>09112001600</td>\n",
       "      <td>Fat Bottom Brewing</td>\n",
       "      <td>Fat Bottom Brewing Inc</td>\n",
       "      <td>800  44th AVE N</td>\n",
       "      <td>Nashville</td>\n",
       "      <td>TN</td>\n",
       "      <td>37209.0</td>\n",
       "      <td>20.0</td>\n",
       "      <td>37013300.0</td>\n",
       "      <td>800 44th AVE N\\nNashville, TN 37209\\n(36.15701...</td>\n",
       "    </tr>\n",
       "    <tr>\n",
       "      <th>3</th>\n",
       "      <td>19-25920</td>\n",
       "      <td>ISSUED</td>\n",
       "      <td>BBPERMIT</td>\n",
       "      <td>ONOFFSALES</td>\n",
       "      <td>BB - On &amp; Off Site Sales</td>\n",
       "      <td>03/06/2019</td>\n",
       "      <td>06/13/2019</td>\n",
       "      <td>11714013900</td>\n",
       "      <td>NASHVILLE CIGAR</td>\n",
       "      <td>686 Bluberry Hill Road</td>\n",
       "      <td>4001  HILLSBORO PIKE</td>\n",
       "      <td>NASHVILLE</td>\n",
       "      <td>TN</td>\n",
       "      <td>37215.0</td>\n",
       "      <td>25.0</td>\n",
       "      <td>37017901.0</td>\n",
       "      <td>4001 HILLSBORO PIKE\\nNASHVILLE, TN 37215\\n(36....</td>\n",
       "    </tr>\n",
       "    <tr>\n",
       "      <th>4</th>\n",
       "      <td>19-25985</td>\n",
       "      <td>ISSUED</td>\n",
       "      <td>BBPERMIT</td>\n",
       "      <td>ONOFFSALES</td>\n",
       "      <td>BB - On &amp; Off Site Sales</td>\n",
       "      <td>04/22/2019</td>\n",
       "      <td>06/13/2019</td>\n",
       "      <td>08305018200</td>\n",
       "      <td>TAILGATE BREWERY EAST NASHVILLE</td>\n",
       "      <td>NaN</td>\n",
       "      <td>811  GALLATIN AVE</td>\n",
       "      <td>NASHVILLE</td>\n",
       "      <td>TN</td>\n",
       "      <td>37206.0</td>\n",
       "      <td>6.0</td>\n",
       "      <td>37011700.0</td>\n",
       "      <td>811 GALLATIN AVE\\nNASHVILLE, TN 37206\\n(36.186...</td>\n",
       "    </tr>\n",
       "  </tbody>\n",
       "</table>\n",
       "</div>"
      ],
      "text/plain": [
       "   Permit #  Status Permit Type Permit SubType  Permit Sub Type Description  \\\n",
       "0  19-25846  ISSUED    BBPERMIT        ONSALES           BB - On Site Sales   \n",
       "1  16-20340  ISSUED    BBPERMIT        ONSALES           BB - On Site Sales   \n",
       "2  17-00205  ISSUED    BBPERMIT     WHOLESALES  BB - Wholesale, Distributor   \n",
       "3  19-25920  ISSUED    BBPERMIT     ONOFFSALES     BB - On & Off Site Sales   \n",
       "4  19-25985  ISSUED    BBPERMIT     ONOFFSALES     BB - On & Off Site Sales   \n",
       "\n",
       "  Date Entered Date Issued       Parcel                    Business Name  \\\n",
       "0   01/24/2019  06/03/2019  16300030200          EXO-TIKKA INDIAN CUSINE   \n",
       "1   05/18/2016  09/23/2016  09114025000    Las Palmas Mexican Restaurant   \n",
       "2   11/03/2016  07/10/2017  09112001600               Fat Bottom Brewing   \n",
       "3   03/06/2019  06/13/2019  11714013900                  NASHVILLE CIGAR   \n",
       "4   04/22/2019  06/13/2019  08305018200  TAILGATE BREWERY EAST NASHVILLE   \n",
       "\n",
       "                                    Business Owner               Address  \\\n",
       "0                                              NaN      5385  MT VIEW RD   \n",
       "1  Las Palmas Mexican Restaurant Inc, Qurino Onate  5821  Charlotte PIKE   \n",
       "2                           Fat Bottom Brewing Inc       800  44th AVE N   \n",
       "3                           686 Bluberry Hill Road  4001  HILLSBORO PIKE   \n",
       "4                                              NaN     811  GALLATIN AVE   \n",
       "\n",
       "        City State      Zip  Council District  Census Tract  \\\n",
       "0    ANTIOCH    TN  37013.0              32.0    37015629.0   \n",
       "1  Nashville    TN  37209.0              20.0    37018101.0   \n",
       "2  Nashville    TN  37209.0              20.0    37013300.0   \n",
       "3  NASHVILLE    TN  37215.0              25.0    37017901.0   \n",
       "4  NASHVILLE    TN  37206.0               6.0    37011700.0   \n",
       "\n",
       "                                     Mapped Location  \n",
       "0  5385 MT VIEW RD\\nANTIOCH, TN 37013\\n(36.047649...  \n",
       "1  5821 Charlotte PIKE\\nNashville, TN 37209\\n(36....  \n",
       "2  800 44th AVE N\\nNashville, TN 37209\\n(36.15701...  \n",
       "3  4001 HILLSBORO PIKE\\nNASHVILLE, TN 37215\\n(36....  \n",
       "4  811 GALLATIN AVE\\nNASHVILLE, TN 37206\\n(36.186...  "
      ]
     },
     "execution_count": 647,
     "metadata": {},
     "output_type": "execute_result"
    }
   ],
   "source": [
    "beer.head()"
   ]
  },
  {
   "cell_type": "code",
   "execution_count": 648,
   "metadata": {},
   "outputs": [],
   "source": [
    "beer = beer[['Permit #', 'Mapped Location']]"
   ]
  },
  {
   "cell_type": "code",
   "execution_count": 649,
   "metadata": {},
   "outputs": [],
   "source": [
    "beer = beer[beer['Mapped Location'].str.contains('\\(')]"
   ]
  },
  {
   "cell_type": "code",
   "execution_count": 650,
   "metadata": {},
   "outputs": [],
   "source": [
    "beer['lat'] = beer['Mapped Location'].apply(\n",
    "    lambda x: float(x.split('(')[1].split(',')[0]))"
   ]
  },
  {
   "cell_type": "code",
   "execution_count": 651,
   "metadata": {},
   "outputs": [],
   "source": [
    "beer['lon'] = beer['Mapped Location'].apply(\n",
    "    lambda x: float(x.split('(')[1].split(' ')[1].split(')')[0]))"
   ]
  },
  {
   "cell_type": "code",
   "execution_count": 652,
   "metadata": {},
   "outputs": [],
   "source": [
    "beer['geometry'] = beer.apply(lambda x: Point((float(x.lon), \n",
    "                                                                 float(x.lat))), \n",
    "                                                axis=1)"
   ]
  },
  {
   "cell_type": "code",
   "execution_count": 653,
   "metadata": {},
   "outputs": [],
   "source": [
    "beer_geo = gpd.GeoDataFrame(beer, \n",
    "                                crs = zips.crs, \n",
    "                                geometry = beer['geometry'])"
   ]
  },
  {
   "cell_type": "code",
   "execution_count": 654,
   "metadata": {},
   "outputs": [],
   "source": [
    "beer_geo = gpd.sjoin(beer_geo, tracts, op = 'within').drop(columns='index_right')"
   ]
  },
  {
   "cell_type": "code",
   "execution_count": 655,
   "metadata": {},
   "outputs": [],
   "source": [
    "beer_geo = beer_geo[['Permit #', 'GEOID']]"
   ]
  },
  {
   "cell_type": "code",
   "execution_count": 656,
   "metadata": {},
   "outputs": [
    {
     "data": {
      "text/html": [
       "<div>\n",
       "<style scoped>\n",
       "    .dataframe tbody tr th:only-of-type {\n",
       "        vertical-align: middle;\n",
       "    }\n",
       "\n",
       "    .dataframe tbody tr th {\n",
       "        vertical-align: top;\n",
       "    }\n",
       "\n",
       "    .dataframe thead th {\n",
       "        text-align: right;\n",
       "    }\n",
       "</style>\n",
       "<table border=\"1\" class=\"dataframe\">\n",
       "  <thead>\n",
       "    <tr style=\"text-align: right;\">\n",
       "      <th></th>\n",
       "      <th>Permit #</th>\n",
       "      <th>GEOID</th>\n",
       "    </tr>\n",
       "  </thead>\n",
       "  <tbody>\n",
       "    <tr>\n",
       "      <th>0</th>\n",
       "      <td>19-25846</td>\n",
       "      <td>47037015629</td>\n",
       "    </tr>\n",
       "    <tr>\n",
       "      <th>16</th>\n",
       "      <td>20-26438</td>\n",
       "      <td>47037015629</td>\n",
       "    </tr>\n",
       "    <tr>\n",
       "      <th>552</th>\n",
       "      <td>97-14830</td>\n",
       "      <td>47037015629</td>\n",
       "    </tr>\n",
       "    <tr>\n",
       "      <th>582</th>\n",
       "      <td>12-16854</td>\n",
       "      <td>47037015629</td>\n",
       "    </tr>\n",
       "    <tr>\n",
       "      <th>770</th>\n",
       "      <td>16-17356</td>\n",
       "      <td>47037015629</td>\n",
       "    </tr>\n",
       "  </tbody>\n",
       "</table>\n",
       "</div>"
      ],
      "text/plain": [
       "     Permit #        GEOID\n",
       "0    19-25846  47037015629\n",
       "16   20-26438  47037015629\n",
       "552  97-14830  47037015629\n",
       "582  12-16854  47037015629\n",
       "770  16-17356  47037015629"
      ]
     },
     "execution_count": 656,
     "metadata": {},
     "output_type": "execute_result"
    }
   ],
   "source": [
    "beer_geo.head()"
   ]
  },
  {
   "cell_type": "code",
   "execution_count": 658,
   "metadata": {},
   "outputs": [],
   "source": [
    "#beer_geo.to_csv('../data/beer_geo.csv', index=False)"
   ]
  },
  {
   "cell_type": "markdown",
   "metadata": {},
   "source": [
    "## Match geo of STR Permits"
   ]
  },
  {
   "cell_type": "code",
   "execution_count": 659,
   "metadata": {},
   "outputs": [],
   "source": [
    "str_permits = pd.read_csv('../data/Residential_Short_Term_Rental_Permits.csv')"
   ]
  },
  {
   "cell_type": "code",
   "execution_count": 660,
   "metadata": {},
   "outputs": [
    {
     "data": {
      "text/html": [
       "<div>\n",
       "<style scoped>\n",
       "    .dataframe tbody tr th:only-of-type {\n",
       "        vertical-align: middle;\n",
       "    }\n",
       "\n",
       "    .dataframe tbody tr th {\n",
       "        vertical-align: top;\n",
       "    }\n",
       "\n",
       "    .dataframe thead th {\n",
       "        text-align: right;\n",
       "    }\n",
       "</style>\n",
       "<table border=\"1\" class=\"dataframe\">\n",
       "  <thead>\n",
       "    <tr style=\"text-align: right;\">\n",
       "      <th></th>\n",
       "      <th>Permit #</th>\n",
       "      <th>Applicant</th>\n",
       "      <th>Applicant Home Phone</th>\n",
       "      <th>Applicant Mobile Phone</th>\n",
       "      <th>Applicant Work Phone</th>\n",
       "      <th>Applicant Work Phone Ext.</th>\n",
       "      <th>Contact</th>\n",
       "      <th>Contact Home Phone</th>\n",
       "      <th>Contact Mobile Phone</th>\n",
       "      <th>Contact Work Phone</th>\n",
       "      <th>...</th>\n",
       "      <th>Permit Owner Addr. 2</th>\n",
       "      <th>Permit Owner Addr. 3</th>\n",
       "      <th>Permit Owner City</th>\n",
       "      <th>Permit Owner State</th>\n",
       "      <th>Permit Owner ZIP</th>\n",
       "      <th>Permit Type</th>\n",
       "      <th>Permit Subtype</th>\n",
       "      <th>Council District</th>\n",
       "      <th>Census Tract</th>\n",
       "      <th>Mapped Location</th>\n",
       "    </tr>\n",
       "  </thead>\n",
       "  <tbody>\n",
       "    <tr>\n",
       "      <th>0</th>\n",
       "      <td>2016031444</td>\n",
       "      <td>NaN</td>\n",
       "      <td>NaN</td>\n",
       "      <td>NaN</td>\n",
       "      <td>NaN</td>\n",
       "      <td>NaN</td>\n",
       "      <td>Andrew Hansen</td>\n",
       "      <td>NaN</td>\n",
       "      <td>914-646-6002</td>\n",
       "      <td>NaN</td>\n",
       "      <td>...</td>\n",
       "      <td>1617 LILLIAN ST</td>\n",
       "      <td>NaN</td>\n",
       "      <td>NASHVILLE</td>\n",
       "      <td>TN</td>\n",
       "      <td>37206</td>\n",
       "      <td>CASR</td>\n",
       "      <td>CAZ10A002</td>\n",
       "      <td>6.0</td>\n",
       "      <td>37012200</td>\n",
       "      <td>1617 LILLIAN ST\\nNASHVILLE, TN 37206\\n(36.1722...</td>\n",
       "    </tr>\n",
       "    <tr>\n",
       "      <th>1</th>\n",
       "      <td>2016028278</td>\n",
       "      <td>john briggs</td>\n",
       "      <td>NaN</td>\n",
       "      <td>NaN</td>\n",
       "      <td>NaN</td>\n",
       "      <td>NaN</td>\n",
       "      <td>john briggs</td>\n",
       "      <td>NaN</td>\n",
       "      <td>NaN</td>\n",
       "      <td>615-714-7761</td>\n",
       "      <td>...</td>\n",
       "      <td>2140 OLD HICKORY BLVD</td>\n",
       "      <td>NaN</td>\n",
       "      <td>NASHVILLE</td>\n",
       "      <td>TN</td>\n",
       "      <td>37215</td>\n",
       "      <td>CASR</td>\n",
       "      <td>CAZ10A002</td>\n",
       "      <td>34.0</td>\n",
       "      <td>37018601</td>\n",
       "      <td>4517 BEACON DR\\nNASHVILLE, TN 37215\\n(36.08734...</td>\n",
       "    </tr>\n",
       "    <tr>\n",
       "      <th>2</th>\n",
       "      <td>2016025269</td>\n",
       "      <td>NaN</td>\n",
       "      <td>NaN</td>\n",
       "      <td>NaN</td>\n",
       "      <td>NaN</td>\n",
       "      <td>NaN</td>\n",
       "      <td>ben dixon</td>\n",
       "      <td>NaN</td>\n",
       "      <td>NaN</td>\n",
       "      <td>4086424169</td>\n",
       "      <td>...</td>\n",
       "      <td>306 EDGEVIEW DR</td>\n",
       "      <td>NaN</td>\n",
       "      <td>NASHVILLE</td>\n",
       "      <td>TN</td>\n",
       "      <td>37211</td>\n",
       "      <td>CASR</td>\n",
       "      <td>CAZ10A001</td>\n",
       "      <td>26.0</td>\n",
       "      <td>37018902</td>\n",
       "      <td>306 EDGEVIEW DR\\nNASHVILLE, TN 37211\\n(36.0764...</td>\n",
       "    </tr>\n",
       "    <tr>\n",
       "      <th>3</th>\n",
       "      <td>2017032662</td>\n",
       "      <td>NaN</td>\n",
       "      <td>NaN</td>\n",
       "      <td>NaN</td>\n",
       "      <td>NaN</td>\n",
       "      <td>NaN</td>\n",
       "      <td>Charlotte Rosenbalm</td>\n",
       "      <td>NaN</td>\n",
       "      <td>615 210-1296</td>\n",
       "      <td>NaN</td>\n",
       "      <td>...</td>\n",
       "      <td>221 SHEVEL DR</td>\n",
       "      <td>NaN</td>\n",
       "      <td>GOODLETTSVILLE</td>\n",
       "      <td>TN</td>\n",
       "      <td>37072</td>\n",
       "      <td>CASR</td>\n",
       "      <td>CAZ10A001</td>\n",
       "      <td>10.0</td>\n",
       "      <td>37010301</td>\n",
       "      <td>221 SHEVEL DR\\nGOODLETTSVILLE, TN 37072\\n(36.3...</td>\n",
       "    </tr>\n",
       "    <tr>\n",
       "      <th>4</th>\n",
       "      <td>2019036294</td>\n",
       "      <td>Kenneth Greenberg</td>\n",
       "      <td>NaN</td>\n",
       "      <td>615 714-6474</td>\n",
       "      <td>NaN</td>\n",
       "      <td>NaN</td>\n",
       "      <td>Kenneth Greenberg</td>\n",
       "      <td>NaN</td>\n",
       "      <td>615 714-6474</td>\n",
       "      <td>NaN</td>\n",
       "      <td>...</td>\n",
       "      <td>1027 E TRINITY LN #3</td>\n",
       "      <td>NaN</td>\n",
       "      <td>NASHVILLE</td>\n",
       "      <td>TN</td>\n",
       "      <td>37216</td>\n",
       "      <td>CASR</td>\n",
       "      <td>CAZ10A003</td>\n",
       "      <td>5.0</td>\n",
       "      <td>37011200</td>\n",
       "      <td>1027 E TRINITY LN 3\\nNASHVILLE, TN 37216\\n(36....</td>\n",
       "    </tr>\n",
       "  </tbody>\n",
       "</table>\n",
       "<p>5 rows × 35 columns</p>\n",
       "</div>"
      ],
      "text/plain": [
       "     Permit #          Applicant Applicant Home Phone Applicant Mobile Phone  \\\n",
       "0  2016031444                NaN                  NaN                    NaN   \n",
       "1  2016028278        john briggs                  NaN                    NaN   \n",
       "2  2016025269                NaN                  NaN                    NaN   \n",
       "3  2017032662                NaN                  NaN                    NaN   \n",
       "4  2019036294  Kenneth Greenberg                  NaN           615 714-6474   \n",
       "\n",
       "  Applicant Work Phone Applicant Work Phone Ext.              Contact  \\\n",
       "0                  NaN                       NaN        Andrew Hansen   \n",
       "1                  NaN                       NaN          john briggs   \n",
       "2                  NaN                       NaN            ben dixon   \n",
       "3                  NaN                       NaN  Charlotte Rosenbalm   \n",
       "4                  NaN                       NaN    Kenneth Greenberg   \n",
       "\n",
       "  Contact Home Phone Contact Mobile Phone Contact Work Phone  ...  \\\n",
       "0                NaN         914-646-6002                NaN  ...   \n",
       "1                NaN                  NaN       615-714-7761  ...   \n",
       "2                NaN                  NaN         4086424169  ...   \n",
       "3                NaN         615 210-1296                NaN  ...   \n",
       "4                NaN         615 714-6474                NaN  ...   \n",
       "\n",
       "    Permit Owner Addr. 2 Permit Owner Addr. 3 Permit Owner City  \\\n",
       "0        1617 LILLIAN ST                  NaN         NASHVILLE   \n",
       "1  2140 OLD HICKORY BLVD                  NaN         NASHVILLE   \n",
       "2        306 EDGEVIEW DR                  NaN         NASHVILLE   \n",
       "3          221 SHEVEL DR                  NaN    GOODLETTSVILLE   \n",
       "4   1027 E TRINITY LN #3                  NaN         NASHVILLE   \n",
       "\n",
       "  Permit Owner State Permit Owner ZIP Permit Type Permit Subtype  \\\n",
       "0                 TN            37206        CASR      CAZ10A002   \n",
       "1                 TN            37215        CASR      CAZ10A002   \n",
       "2                 TN            37211        CASR      CAZ10A001   \n",
       "3                 TN            37072        CASR      CAZ10A001   \n",
       "4                 TN            37216        CASR      CAZ10A003   \n",
       "\n",
       "  Council District Census Tract  \\\n",
       "0              6.0     37012200   \n",
       "1             34.0     37018601   \n",
       "2             26.0     37018902   \n",
       "3             10.0     37010301   \n",
       "4              5.0     37011200   \n",
       "\n",
       "                                     Mapped Location  \n",
       "0  1617 LILLIAN ST\\nNASHVILLE, TN 37206\\n(36.1722...  \n",
       "1  4517 BEACON DR\\nNASHVILLE, TN 37215\\n(36.08734...  \n",
       "2  306 EDGEVIEW DR\\nNASHVILLE, TN 37211\\n(36.0764...  \n",
       "3  221 SHEVEL DR\\nGOODLETTSVILLE, TN 37072\\n(36.3...  \n",
       "4  1027 E TRINITY LN 3\\nNASHVILLE, TN 37216\\n(36....  \n",
       "\n",
       "[5 rows x 35 columns]"
      ]
     },
     "execution_count": 660,
     "metadata": {},
     "output_type": "execute_result"
    }
   ],
   "source": [
    "str_permits.head()"
   ]
  },
  {
   "cell_type": "code",
   "execution_count": 661,
   "metadata": {},
   "outputs": [],
   "source": [
    "str_permits = str_permits[['Permit #', 'Mapped Location']]"
   ]
  },
  {
   "cell_type": "code",
   "execution_count": 662,
   "metadata": {},
   "outputs": [],
   "source": [
    "str_permits['Mapped Location'] = [re.findall(r'[0-9]+[.][0-9]+', row) for row in str_permits['Mapped Location']]"
   ]
  },
  {
   "cell_type": "code",
   "execution_count": 663,
   "metadata": {},
   "outputs": [],
   "source": [
    "str_permits['lat'] = str_permits['Mapped Location'].str[0].astype(float)"
   ]
  },
  {
   "cell_type": "code",
   "execution_count": 664,
   "metadata": {},
   "outputs": [],
   "source": [
    "str_permits['lon'] = str_permits['Mapped Location'].str[1].astype(float) * -1"
   ]
  },
  {
   "cell_type": "code",
   "execution_count": 665,
   "metadata": {},
   "outputs": [],
   "source": [
    "str_permits['geometry'] = str_permits.apply(lambda x: Point((float(x.lon), \n",
    "                                                                 float(x.lat))), \n",
    "                                                axis=1)"
   ]
  },
  {
   "cell_type": "code",
   "execution_count": 666,
   "metadata": {},
   "outputs": [],
   "source": [
    "str_permits_geo = gpd.GeoDataFrame(str_permits, \n",
    "                                   crs = zips.crs, \n",
    "                                   geometry = str_permits['geometry'])"
   ]
  },
  {
   "cell_type": "code",
   "execution_count": 667,
   "metadata": {},
   "outputs": [],
   "source": [
    "str_permits_geo = gpd.sjoin(str_permits_geo, tracts, op = 'within').drop(columns='index_right')"
   ]
  },
  {
   "cell_type": "code",
   "execution_count": 668,
   "metadata": {},
   "outputs": [],
   "source": [
    "str_permits_geo = str_permits_geo[['Permit #', 'GEOID']]"
   ]
  },
  {
   "cell_type": "code",
   "execution_count": 669,
   "metadata": {},
   "outputs": [
    {
     "data": {
      "text/html": [
       "<div>\n",
       "<style scoped>\n",
       "    .dataframe tbody tr th:only-of-type {\n",
       "        vertical-align: middle;\n",
       "    }\n",
       "\n",
       "    .dataframe tbody tr th {\n",
       "        vertical-align: top;\n",
       "    }\n",
       "\n",
       "    .dataframe thead th {\n",
       "        text-align: right;\n",
       "    }\n",
       "</style>\n",
       "<table border=\"1\" class=\"dataframe\">\n",
       "  <thead>\n",
       "    <tr style=\"text-align: right;\">\n",
       "      <th></th>\n",
       "      <th>Permit #</th>\n",
       "      <th>GEOID</th>\n",
       "    </tr>\n",
       "  </thead>\n",
       "  <tbody>\n",
       "    <tr>\n",
       "      <th>0</th>\n",
       "      <td>2016031444</td>\n",
       "      <td>47037012200</td>\n",
       "    </tr>\n",
       "    <tr>\n",
       "      <th>93</th>\n",
       "      <td>2016044566</td>\n",
       "      <td>47037012200</td>\n",
       "    </tr>\n",
       "    <tr>\n",
       "      <th>119</th>\n",
       "      <td>2016031516</td>\n",
       "      <td>47037012200</td>\n",
       "    </tr>\n",
       "    <tr>\n",
       "      <th>127</th>\n",
       "      <td>2016031562</td>\n",
       "      <td>47037012200</td>\n",
       "    </tr>\n",
       "    <tr>\n",
       "      <th>149</th>\n",
       "      <td>2017069285</td>\n",
       "      <td>47037012200</td>\n",
       "    </tr>\n",
       "  </tbody>\n",
       "</table>\n",
       "</div>"
      ],
      "text/plain": [
       "       Permit #        GEOID\n",
       "0    2016031444  47037012200\n",
       "93   2016044566  47037012200\n",
       "119  2016031516  47037012200\n",
       "127  2016031562  47037012200\n",
       "149  2017069285  47037012200"
      ]
     },
     "execution_count": 669,
     "metadata": {},
     "output_type": "execute_result"
    }
   ],
   "source": [
    "str_permits_geo.head()"
   ]
  },
  {
   "cell_type": "code",
   "execution_count": 671,
   "metadata": {},
   "outputs": [],
   "source": [
    "#str_permits_geo.to_csv('../data/str_permits_geo.csv', index=False)"
   ]
  },
  {
   "cell_type": "markdown",
   "metadata": {},
   "source": [
    "## Match geo of Crime"
   ]
  },
  {
   "cell_type": "code",
   "execution_count": 674,
   "metadata": {},
   "outputs": [],
   "source": [
    "crime = pd.read_csv('../data/crime_reduced.csv')"
   ]
  },
  {
   "cell_type": "code",
   "execution_count": 675,
   "metadata": {},
   "outputs": [
    {
     "data": {
      "text/html": [
       "<div>\n",
       "<style scoped>\n",
       "    .dataframe tbody tr th:only-of-type {\n",
       "        vertical-align: middle;\n",
       "    }\n",
       "\n",
       "    .dataframe tbody tr th {\n",
       "        vertical-align: top;\n",
       "    }\n",
       "\n",
       "    .dataframe thead th {\n",
       "        text-align: right;\n",
       "    }\n",
       "</style>\n",
       "<table border=\"1\" class=\"dataframe\">\n",
       "  <thead>\n",
       "    <tr style=\"text-align: right;\">\n",
       "      <th></th>\n",
       "      <th>Primary Key</th>\n",
       "      <th>Investigation Status</th>\n",
       "      <th>Incident Occurred</th>\n",
       "      <th>Latitude</th>\n",
       "      <th>Longitude</th>\n",
       "      <th>Location Description</th>\n",
       "      <th>Offense Description</th>\n",
       "      <th>Victim County Resident</th>\n",
       "      <th>Mapped Location</th>\n",
       "    </tr>\n",
       "  </thead>\n",
       "  <tbody>\n",
       "    <tr>\n",
       "      <th>0</th>\n",
       "      <td>20210237359_11</td>\n",
       "      <td>Open</td>\n",
       "      <td>04/27/2021 08:00:00 AM</td>\n",
       "      <td>36.15</td>\n",
       "      <td>-86.78</td>\n",
       "      <td>PARKING LOT, GARAGE</td>\n",
       "      <td>BURGLARY- MOTOR VEHICLE</td>\n",
       "      <td>NON RESIDENT</td>\n",
       "      <td>POINT (-86.78 36.15)</td>\n",
       "    </tr>\n",
       "    <tr>\n",
       "      <th>1</th>\n",
       "      <td>20210247521_11</td>\n",
       "      <td>Open</td>\n",
       "      <td>05/03/2021 08:00:00 PM</td>\n",
       "      <td>36.15</td>\n",
       "      <td>-86.78</td>\n",
       "      <td>Shelter-Mission/Homeless</td>\n",
       "      <td>SIMPLE ASSLT</td>\n",
       "      <td>RESIDENT</td>\n",
       "      <td>POINT (-86.78 36.15)</td>\n",
       "    </tr>\n",
       "    <tr>\n",
       "      <th>2</th>\n",
       "      <td>20210233024_11</td>\n",
       "      <td>Open</td>\n",
       "      <td>04/25/2021 08:00:00 PM</td>\n",
       "      <td>36.17</td>\n",
       "      <td>-86.76</td>\n",
       "      <td>HIGHWAY, ROAD, ALLEY</td>\n",
       "      <td>VEHICLE THEFT</td>\n",
       "      <td>RESIDENT</td>\n",
       "      <td>POINT (-86.76 36.17)</td>\n",
       "    </tr>\n",
       "    <tr>\n",
       "      <th>3</th>\n",
       "      <td>20210248988_12</td>\n",
       "      <td>Open</td>\n",
       "      <td>05/04/2021 03:07:00 PM</td>\n",
       "      <td>36.17</td>\n",
       "      <td>-86.75</td>\n",
       "      <td>PARKING LOT, GARAGE</td>\n",
       "      <td>HARRASSMENT (NUISANCE)</td>\n",
       "      <td>RESIDENT</td>\n",
       "      <td>POINT (-86.75 36.17)</td>\n",
       "    </tr>\n",
       "    <tr>\n",
       "      <th>4</th>\n",
       "      <td>20210247765_11</td>\n",
       "      <td>Open</td>\n",
       "      <td>05/03/2021 11:00:00 PM</td>\n",
       "      <td>36.32</td>\n",
       "      <td>-86.90</td>\n",
       "      <td>RESIDENCE, HOME</td>\n",
       "      <td>LARC - PARTS FROM VEH</td>\n",
       "      <td>RESIDENT</td>\n",
       "      <td>POINT (-86.9 36.32)</td>\n",
       "    </tr>\n",
       "  </tbody>\n",
       "</table>\n",
       "</div>"
      ],
      "text/plain": [
       "      Primary Key Investigation Status       Incident Occurred  Latitude  \\\n",
       "0  20210237359_11                 Open  04/27/2021 08:00:00 AM     36.15   \n",
       "1  20210247521_11                 Open  05/03/2021 08:00:00 PM     36.15   \n",
       "2  20210233024_11                 Open  04/25/2021 08:00:00 PM     36.17   \n",
       "3  20210248988_12                 Open  05/04/2021 03:07:00 PM     36.17   \n",
       "4  20210247765_11                 Open  05/03/2021 11:00:00 PM     36.32   \n",
       "\n",
       "   Longitude      Location Description      Offense Description  \\\n",
       "0     -86.78       PARKING LOT, GARAGE  BURGLARY- MOTOR VEHICLE   \n",
       "1     -86.78  Shelter-Mission/Homeless             SIMPLE ASSLT   \n",
       "2     -86.76      HIGHWAY, ROAD, ALLEY            VEHICLE THEFT   \n",
       "3     -86.75       PARKING LOT, GARAGE   HARRASSMENT (NUISANCE)   \n",
       "4     -86.90           RESIDENCE, HOME    LARC - PARTS FROM VEH   \n",
       "\n",
       "  Victim County Resident       Mapped Location  \n",
       "0           NON RESIDENT  POINT (-86.78 36.15)  \n",
       "1               RESIDENT  POINT (-86.78 36.15)  \n",
       "2               RESIDENT  POINT (-86.76 36.17)  \n",
       "3               RESIDENT  POINT (-86.75 36.17)  \n",
       "4               RESIDENT   POINT (-86.9 36.32)  "
      ]
     },
     "execution_count": 675,
     "metadata": {},
     "output_type": "execute_result"
    }
   ],
   "source": [
    "crime.head()"
   ]
  },
  {
   "cell_type": "code",
   "execution_count": 676,
   "metadata": {},
   "outputs": [],
   "source": [
    "crime = crime[['Primary Key', 'Latitude', 'Longitude']]"
   ]
  },
  {
   "cell_type": "code",
   "execution_count": 677,
   "metadata": {},
   "outputs": [],
   "source": [
    "crime['geometry'] = crime.apply(lambda x: Point((float(x.Longitude), \n",
    "                                                                 float(x.Latitude))), \n",
    "                                                axis=1)"
   ]
  },
  {
   "cell_type": "code",
   "execution_count": 678,
   "metadata": {},
   "outputs": [],
   "source": [
    "crime_geo = gpd.GeoDataFrame(crime, \n",
    "                             crs = zips.crs, \n",
    "                             geometry = crime['geometry'])"
   ]
  },
  {
   "cell_type": "code",
   "execution_count": 679,
   "metadata": {},
   "outputs": [
    {
     "data": {
      "text/html": [
       "<div>\n",
       "<style scoped>\n",
       "    .dataframe tbody tr th:only-of-type {\n",
       "        vertical-align: middle;\n",
       "    }\n",
       "\n",
       "    .dataframe tbody tr th {\n",
       "        vertical-align: top;\n",
       "    }\n",
       "\n",
       "    .dataframe thead th {\n",
       "        text-align: right;\n",
       "    }\n",
       "</style>\n",
       "<table border=\"1\" class=\"dataframe\">\n",
       "  <thead>\n",
       "    <tr style=\"text-align: right;\">\n",
       "      <th></th>\n",
       "      <th>Primary Key</th>\n",
       "      <th>Latitude</th>\n",
       "      <th>Longitude</th>\n",
       "      <th>geometry</th>\n",
       "    </tr>\n",
       "  </thead>\n",
       "  <tbody>\n",
       "    <tr>\n",
       "      <th>0</th>\n",
       "      <td>20210237359_11</td>\n",
       "      <td>36.15</td>\n",
       "      <td>-86.78</td>\n",
       "      <td>POINT (-86.78000 36.15000)</td>\n",
       "    </tr>\n",
       "    <tr>\n",
       "      <th>1</th>\n",
       "      <td>20210247521_11</td>\n",
       "      <td>36.15</td>\n",
       "      <td>-86.78</td>\n",
       "      <td>POINT (-86.78000 36.15000)</td>\n",
       "    </tr>\n",
       "    <tr>\n",
       "      <th>2</th>\n",
       "      <td>20210233024_11</td>\n",
       "      <td>36.17</td>\n",
       "      <td>-86.76</td>\n",
       "      <td>POINT (-86.76000 36.17000)</td>\n",
       "    </tr>\n",
       "    <tr>\n",
       "      <th>3</th>\n",
       "      <td>20210248988_12</td>\n",
       "      <td>36.17</td>\n",
       "      <td>-86.75</td>\n",
       "      <td>POINT (-86.75000 36.17000)</td>\n",
       "    </tr>\n",
       "    <tr>\n",
       "      <th>4</th>\n",
       "      <td>20210247765_11</td>\n",
       "      <td>36.32</td>\n",
       "      <td>-86.90</td>\n",
       "      <td>POINT (-86.90000 36.32000)</td>\n",
       "    </tr>\n",
       "  </tbody>\n",
       "</table>\n",
       "</div>"
      ],
      "text/plain": [
       "      Primary Key  Latitude  Longitude                    geometry\n",
       "0  20210237359_11     36.15     -86.78  POINT (-86.78000 36.15000)\n",
       "1  20210247521_11     36.15     -86.78  POINT (-86.78000 36.15000)\n",
       "2  20210233024_11     36.17     -86.76  POINT (-86.76000 36.17000)\n",
       "3  20210248988_12     36.17     -86.75  POINT (-86.75000 36.17000)\n",
       "4  20210247765_11     36.32     -86.90  POINT (-86.90000 36.32000)"
      ]
     },
     "execution_count": 679,
     "metadata": {},
     "output_type": "execute_result"
    }
   ],
   "source": [
    "crime.head()"
   ]
  },
  {
   "cell_type": "code",
   "execution_count": 680,
   "metadata": {},
   "outputs": [],
   "source": [
    "crime_geo = gpd.sjoin(crime_geo, tracts, op = 'within').drop(columns='index_right')"
   ]
  },
  {
   "cell_type": "code",
   "execution_count": 681,
   "metadata": {},
   "outputs": [],
   "source": [
    "crime_geo = crime_geo[['Primary Key', 'GEOID']]"
   ]
  },
  {
   "cell_type": "code",
   "execution_count": 682,
   "metadata": {},
   "outputs": [
    {
     "data": {
      "text/html": [
       "<div>\n",
       "<style scoped>\n",
       "    .dataframe tbody tr th:only-of-type {\n",
       "        vertical-align: middle;\n",
       "    }\n",
       "\n",
       "    .dataframe tbody tr th {\n",
       "        vertical-align: top;\n",
       "    }\n",
       "\n",
       "    .dataframe thead th {\n",
       "        text-align: right;\n",
       "    }\n",
       "</style>\n",
       "<table border=\"1\" class=\"dataframe\">\n",
       "  <thead>\n",
       "    <tr style=\"text-align: right;\">\n",
       "      <th></th>\n",
       "      <th>Primary Key</th>\n",
       "      <th>GEOID</th>\n",
       "    </tr>\n",
       "  </thead>\n",
       "  <tbody>\n",
       "    <tr>\n",
       "      <th>0</th>\n",
       "      <td>20210237359_11</td>\n",
       "      <td>47037019500</td>\n",
       "    </tr>\n",
       "    <tr>\n",
       "      <th>1</th>\n",
       "      <td>20210247521_11</td>\n",
       "      <td>47037019500</td>\n",
       "    </tr>\n",
       "    <tr>\n",
       "      <th>6</th>\n",
       "      <td>20210246665_11</td>\n",
       "      <td>47037019500</td>\n",
       "    </tr>\n",
       "    <tr>\n",
       "      <th>26</th>\n",
       "      <td>20210232994_11</td>\n",
       "      <td>47037019500</td>\n",
       "    </tr>\n",
       "    <tr>\n",
       "      <th>43</th>\n",
       "      <td>20210231942_11</td>\n",
       "      <td>47037019500</td>\n",
       "    </tr>\n",
       "  </tbody>\n",
       "</table>\n",
       "</div>"
      ],
      "text/plain": [
       "       Primary Key        GEOID\n",
       "0   20210237359_11  47037019500\n",
       "1   20210247521_11  47037019500\n",
       "6   20210246665_11  47037019500\n",
       "26  20210232994_11  47037019500\n",
       "43  20210231942_11  47037019500"
      ]
     },
     "execution_count": 682,
     "metadata": {},
     "output_type": "execute_result"
    }
   ],
   "source": [
    "crime_geo.head()"
   ]
  },
  {
   "cell_type": "code",
   "execution_count": 683,
   "metadata": {},
   "outputs": [
    {
     "data": {
      "text/plain": [
       "47037019500    24086\n",
       "47037019300     9474\n",
       "47037011001     7653\n",
       "47037012701     7358\n",
       "47037019400     7195\n",
       "               ...  \n",
       "47037016800      256\n",
       "47037018408      211\n",
       "47037018203      165\n",
       "47037010302      137\n",
       "47037010301      112\n",
       "Name: GEOID, Length: 161, dtype: int64"
      ]
     },
     "execution_count": 683,
     "metadata": {},
     "output_type": "execute_result"
    }
   ],
   "source": [
    "crime_geo['GEOID'].value_counts()"
   ]
  },
  {
   "cell_type": "code",
   "execution_count": 684,
   "metadata": {},
   "outputs": [
    {
     "data": {
      "text/plain": [
       "Primary Key    0\n",
       "GEOID          0\n",
       "dtype: int64"
      ]
     },
     "execution_count": 684,
     "metadata": {},
     "output_type": "execute_result"
    }
   ],
   "source": [
    "crime_geo.isna().sum()"
   ]
  },
  {
   "cell_type": "code",
   "execution_count": 685,
   "metadata": {},
   "outputs": [
    {
     "data": {
      "text/plain": [
       "(384047, 2)"
      ]
     },
     "execution_count": 685,
     "metadata": {},
     "output_type": "execute_result"
    }
   ],
   "source": [
    "crime_geo.shape"
   ]
  },
  {
   "cell_type": "code",
   "execution_count": 687,
   "metadata": {},
   "outputs": [],
   "source": [
    "#crime_geo.to_csv('../data/crime_geo.csv', index=False)"
   ]
  },
  {
   "cell_type": "code",
   "execution_count": null,
   "metadata": {},
   "outputs": [],
   "source": []
  },
  {
   "cell_type": "code",
   "execution_count": null,
   "metadata": {},
   "outputs": [],
   "source": []
  }
 ],
 "metadata": {
  "kernelspec": {
   "display_name": "Python 3",
   "language": "python",
   "name": "python3"
  },
  "language_info": {
   "codemirror_mode": {
    "name": "ipython",
    "version": 3
   },
   "file_extension": ".py",
   "mimetype": "text/x-python",
   "name": "python",
   "nbconvert_exporter": "python",
   "pygments_lexer": "ipython3",
   "version": "3.8.5"
  }
 },
 "nbformat": 4,
 "nbformat_minor": 4
}
